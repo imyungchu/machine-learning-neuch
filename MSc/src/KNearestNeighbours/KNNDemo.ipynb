{
 "cells": [
  {
   "cell_type": "code",
   "execution_count": 1,
   "id": "d6de5feb-7cee-4943-9ef4-3b7e1a68ce2b",
   "metadata": {},
   "outputs": [],
   "source": [
    "import numpy as np"
   ]
  },
  {
   "cell_type": "code",
   "execution_count": 2,
   "id": "149911dd-509f-48c1-b3f6-f23d76ca8f92",
   "metadata": {},
   "outputs": [
    {
     "ename": "ModuleNotFoundError",
     "evalue": "No module named 'classification'",
     "output_type": "error",
     "traceback": [
      "\u001b[0;31m---------------------------------------------------------------------------\u001b[0m",
      "\u001b[0;31mModuleNotFoundError\u001b[0m                       Traceback (most recent call last)",
      "Cell \u001b[0;32mIn [2], line 1\u001b[0m\n\u001b[0;32m----> 1\u001b[0m \u001b[38;5;28;01mfrom\u001b[39;00m \u001b[38;5;21;01mclassification\u001b[39;00m \u001b[38;5;28;01mimport\u001b[39;00m GaussianGenerator\n",
      "\u001b[0;31mModuleNotFoundError\u001b[0m: No module named 'classification'"
     ]
    }
   ],
   "source": [
    "from classification import GaussianGenerator"
   ]
  },
  {
   "cell_type": "code",
   "execution_count": null,
   "id": "52140c53-363f-40d2-9224-4db247a9e140",
   "metadata": {},
   "outputs": [],
   "source": [
    "n_dim = 2\n",
    "n_classes = 2\n",
    "class_prob = [0.8, 0.2]\n",
    "generator = GaussianGenerator(n_dim, n_classes, class_prob)\n",
    "n_data = 100\n",
    "X, y = generator.generate(n_data)\n",
    "            \n"
   ]
  },
  {
   "cell_type": "code",
   "execution_count": null,
   "id": "9dcca69c-6e2e-4d8f-9e64-8f8daba90759",
   "metadata": {},
   "outputs": [],
   "source": [
    "import matplotlib.pyplot as plt\n",
    "classA = y==0\n",
    "classB = y==1\n",
    "\n",
    "plt.plot(X[classA,0], X[classA,1], 'o')\n",
    "plt.plot(X[classB,0], X[classB,1], 'x')"
   ]
  },
  {
   "cell_type": "code",
   "execution_count": null,
   "id": "5017b440-f652-4d18-b2fc-b3220b1933df",
   "metadata": {},
   "outputs": [],
   "source": [
    "import numpy as np\n",
    "def euclidean_metric(x, y):\n",
    "    return np.linalg.norm(x - y)\n"
   ]
  },
  {
   "cell_type": "code",
   "execution_count": null,
   "id": "dc4cbf17-a34b-4d81-8f20-f445b3ca03ea",
   "metadata": {},
   "outputs": [],
   "source": [
    "from NearestNeighbourClassifier import NearestNeighbourClassifier\n",
    "kNN = NearestNeighbourClassifier(X, y, euclidean_metric, 1)"
   ]
  },
  {
   "cell_type": "code",
   "execution_count": null,
   "id": "caa976b3-bc14-48ee-a8fc-24952593d709",
   "metadata": {},
   "outputs": [],
   "source": [
    "plt.plot(X[classA,0], X[classA,1], 'go')\n",
    "plt.plot(X[classB,0], X[classB,1], 'bo')\n",
    "for t in range(100):\n",
    "    xt = 5*np.random.normal(size=2)\n",
    "    yt = kNN.predict(xt)\n",
    "    \n",
    "    if (yt==0):\n",
    "        plt.plot(xt[0], xt[1], 'gx')\n",
    "    else:\n",
    "        plt.plot(xt[0], xt[1], 'bx')"
   ]
  },
  {
   "cell_type": "code",
   "execution_count": null,
   "id": "b25dad90-e866-43ae-957a-87498dc1e563",
   "metadata": {},
   "outputs": [],
   "source": [
    "y"
   ]
  },
  {
   "cell_type": "code",
   "execution_count": null,
   "id": "8f5ca0fc-ef10-4be6-b854-62680d3f4ac7",
   "metadata": {},
   "outputs": [],
   "source": [
    "len(np.unique(y))"
   ]
  },
  {
   "cell_type": "code",
   "execution_count": null,
   "id": "8bd970af-0e22-476e-871d-ec64f9b7e5a8",
   "metadata": {},
   "outputs": [],
   "source": [
    "N = np.argsort(distances)[0:2]\n",
    "y[N]"
   ]
  },
  {
   "cell_type": "code",
   "execution_count": null,
   "id": "22d0ee37-bebc-4cea-91cd-d654c1204d52",
   "metadata": {},
   "outputs": [],
   "source": []
  },
  {
   "cell_type": "code",
   "execution_count": null,
   "id": "5a24a913-22e1-4dae-bbec-247544dffda3",
   "metadata": {},
   "outputs": [],
   "source": []
  }
 ],
 "metadata": {
  "kernelspec": {
   "display_name": "Python 3 (ipykernel)",
   "language": "python",
   "name": "python3"
  },
  "language_info": {
   "codemirror_mode": {
    "name": "ipython",
    "version": 3
   },
   "file_extension": ".py",
   "mimetype": "text/x-python",
   "name": "python",
   "nbconvert_exporter": "python",
   "pygments_lexer": "ipython3",
   "version": "3.11.2"
  }
 },
 "nbformat": 4,
 "nbformat_minor": 5
}

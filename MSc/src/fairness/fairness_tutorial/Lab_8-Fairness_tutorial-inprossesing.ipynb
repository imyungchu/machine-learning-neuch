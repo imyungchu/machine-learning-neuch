{
 "cells": [
  {
   "cell_type": "markdown",
   "metadata": {},
   "source": [
    "<figure>\n",
    "  <img style=\"float: left;\" src=\"./figures/fair_1.png\" width=\"200\"/>\n",
    "</figure>\n",
    "\n",
    "# Lab 8 - Fairness of Predictive Models\n",
    "\n",
    "In the last lab, we observed that models can exhibit unfairness towards minority groups. We measured Demographic Parity, Equal Opportunity, and Equalized Odds to quantify this unfairness. We also found that simply excluding the sensitive feature from the input features did not solve the problem, as it may be correlated with other features in the dataset. Finally, by excluding these correlated features, we were able to reduce the model's bias with a trade-off in accuracy.\n",
    "\n",
    "Today, we will explore how to train a neural network to enhance model fairness using in-processing methods. More specifically, we will see how we can impose an additional regularization term in the model’s loss function that accounts for fairness."
   ]
  },
  {
   "cell_type": "markdown",
   "metadata": {},
   "source": [
    "### Group Fairness\n",
    "In group fairness, different groups should be treated equally, ensuring fair outcomes across demographic groups.\n",
    "\n",
    "# Correct the Unfair Classifier\n",
    "\n",
    "In summary, there are three general methods to correct an unfair classifier:\n",
    "\n",
    "1. **Pre-Processing**: Make changes to the data before training the model, e.g., removing correlated features.\n",
    "2. **In-Processing**: Make changes to the model to correct fairness, e.g., adding additional loss terms to ensure fairness.\n",
    "3. **Post-Processing**: Make changes after the model's output, e.g., adjusting classification thresholds.\n",
    "\n",
    "For an overview of different methods and fairness criteria, we refer you to the following interesting survey: [https://arxiv.org/pdf/2001.09784.pdf](https://arxiv.org/pdf/2001.09784.pdf).\n",
    "\n",
    "<div>\n",
    "<img style=\"float: left;\" src=\"./figures/corect_unfairness.png\" width=\"400\"/>\n",
    "</div>"
   ]
  },
  {
   "cell_type": "code",
   "execution_count": 65,
   "metadata": {},
   "outputs": [
    {
     "name": "stdout",
     "output_type": "stream",
     "text": [
      "Requirement already satisfied: torch==2.1.0 in /Users/andreasathanasopoulos/Phd/projects/bayesian_fairness/envs/bayesian-fairness/lib/python3.9/site-packages (2.1.0)\n",
      "Requirement already satisfied: fsspec in /Users/andreasathanasopoulos/Phd/projects/bayesian_fairness/envs/bayesian-fairness/lib/python3.9/site-packages (from torch==2.1.0) (2023.10.0)\n",
      "Requirement already satisfied: jinja2 in /Users/andreasathanasopoulos/Phd/projects/bayesian_fairness/envs/bayesian-fairness/lib/python3.9/site-packages (from torch==2.1.0) (3.1.2)\n",
      "Requirement already satisfied: networkx in /Users/andreasathanasopoulos/Phd/projects/bayesian_fairness/envs/bayesian-fairness/lib/python3.9/site-packages (from torch==2.1.0) (3.2.1)\n",
      "Requirement already satisfied: typing-extensions in /Users/andreasathanasopoulos/Phd/projects/bayesian_fairness/envs/bayesian-fairness/lib/python3.9/site-packages (from torch==2.1.0) (4.4.0)\n",
      "Requirement already satisfied: filelock in /Users/andreasathanasopoulos/Phd/projects/bayesian_fairness/envs/bayesian-fairness/lib/python3.9/site-packages (from torch==2.1.0) (3.13.1)\n",
      "Requirement already satisfied: sympy in /Users/andreasathanasopoulos/Phd/projects/bayesian_fairness/envs/bayesian-fairness/lib/python3.9/site-packages (from torch==2.1.0) (1.12)\n",
      "Requirement already satisfied: MarkupSafe>=2.0 in /Users/andreasathanasopoulos/Phd/projects/bayesian_fairness/envs/bayesian-fairness/lib/python3.9/site-packages (from jinja2->torch==2.1.0) (2.1.1)\n",
      "Requirement already satisfied: mpmath>=0.19 in /Users/andreasathanasopoulos/Phd/projects/bayesian_fairness/envs/bayesian-fairness/lib/python3.9/site-packages (from sympy->torch==2.1.0) (1.3.0)\n",
      "\u001b[33mWARNING: You are using pip version 22.0.4; however, version 24.3.1 is available.\n",
      "You should consider upgrading via the '/Users/andreasathanasopoulos/Phd/projects/bayesian_fairness/envs/bayesian-fairness/bin/python3.9 -m pip install --upgrade pip' command.\u001b[0m\u001b[33m\n",
      "\u001b[0m"
     ]
    }
   ],
   "source": [
    "!pip install torch==2.1.0"
   ]
  },
  {
   "cell_type": "code",
   "execution_count": 66,
   "metadata": {},
   "outputs": [],
   "source": [
    "import torch\n",
    "import numpy as np\n",
    "import matplotlib.pyplot as plt"
   ]
  },
  {
   "cell_type": "markdown",
   "metadata": {},
   "source": [
    "# A1. Load Dataset\n",
    "\n",
    "https://archive.ics.uci.edu/ml/datasets/adult"
   ]
  },
  {
   "cell_type": "code",
   "execution_count": 67,
   "metadata": {
    "ExecuteTime": {
     "end_time": "2024-11-14T09:06:37.619228Z",
     "start_time": "2024-11-14T09:06:37.606668Z"
    }
   },
   "outputs": [],
   "source": [
    "import pandas as pd\n",
    "import numpy as np\n",
    "import seaborn as sns\n",
    "import matplotlib.pyplot as plt"
   ]
  },
  {
   "cell_type": "code",
   "execution_count": 68,
   "metadata": {},
   "outputs": [],
   "source": [
    "from collections import OrderedDict\n",
    "\n",
    "data_types = OrderedDict([\n",
    "    (\"age\", \"int\"),\n",
    "    (\"workclass\", \"category\"),\n",
    "    (\"final_weight\", \"int\"),  # originally it was called fnlwgt\n",
    "    (\"education\", \"category\"),\n",
    "    (\"education_num\", \"int\"),\n",
    "    (\"marital_status\", \"category\"),\n",
    "    (\"occupation\", \"category\"),\n",
    "    (\"relationship\", \"category\"),\n",
    "    (\"race\", \"category\"),\n",
    "    (\"sex\", \"category\"),\n",
    "    (\"capital_gain\", \"float\"),  # required because of NaN values\n",
    "    (\"capital_loss\", \"int\"),\n",
    "    (\"hours_per_week\", \"int\"),\n",
    "    (\"native_country\", \"category\"),\n",
    "    (\"income_class\", \"category\"),\n",
    "])\n",
    "target_column = \"income_class\""
   ]
  },
  {
   "cell_type": "code",
   "execution_count": 69,
   "metadata": {},
   "outputs": [],
   "source": [
    "def read_dataset(path):\n",
    "    return pd.read_csv(\n",
    "        path,\n",
    "        names=data_types,\n",
    "        index_col=None,\n",
    "\n",
    "        comment='|',  # test dataset has comment in it\n",
    "        skipinitialspace=True,  # Skip spaces after delimiter\n",
    "        na_values={\n",
    "            'capital_gain': 99999,\n",
    "            'workclass': '?',\n",
    "            'native_country': '?',\n",
    "            'occupation': '?',\n",
    "        },\n",
    "        dtype=data_types,\n",
    "    )\n",
    "\n",
    "def clean_dataset(data):\n",
    "    # Test dataset has dot at the end, we remove it in order\n",
    "    # to unify names between training and test datasets.\n",
    "    data['income_class'] = data.income_class.str.rstrip('.').astype('category')\n",
    "    \n",
    "    # Remove final weight column since there is no use\n",
    "    # for it during the classification.\n",
    "    data = data.drop('final_weight', axis=1)\n",
    "    \n",
    "    # Duplicates might create biases during the analysis and\n",
    "    # during prediction stage they might give over-optimistic\n",
    "    # (or pessimistic) results.\n",
    "    data = data.drop_duplicates()\n",
    "    \n",
    "    # Binary target variable (>50K == 1 and <=50K == 0)\n",
    "    data[target_column] = (data[target_column] == '>50K').astype(int)\n",
    "    \n",
    "    # Categorical dataset\n",
    "    categorical_features = data.select_dtypes('category').columns\n",
    "    data[categorical_features] = data.select_dtypes('category').apply(lambda x: x.cat.codes)\n",
    "    return data"
   ]
  },
  {
   "cell_type": "markdown",
   "metadata": {},
   "source": [
    "### load & clean dataset"
   ]
  },
  {
   "cell_type": "code",
   "execution_count": 70,
   "metadata": {},
   "outputs": [
    {
     "name": "stdout",
     "output_type": "stream",
     "text": [
      "Train dataset shape: (28938, 14)\n",
      "Test dataset shape: (15175, 14)\n"
     ]
    }
   ],
   "source": [
    "# get and clean train dataset\n",
    "TRAIN_DATA_FILE = 'https://archive.ics.uci.edu/ml/machine-learning-databases/adult/adult.data'\n",
    "train_data = clean_dataset(read_dataset(TRAIN_DATA_FILE))\n",
    "train_data = train_data.dropna()\n",
    "print(\"Train dataset shape:\", train_data.shape)\n",
    "\n",
    "# get and clean test dataset\n",
    "TEST_DATA_FILE = 'https://archive.ics.uci.edu/ml/machine-learning-databases/adult/adult.test'\n",
    "test_data = clean_dataset(read_dataset(TEST_DATA_FILE))\n",
    "test_data = test_data.dropna()\n",
    "print(\"Test dataset shape:\", test_data.shape)"
   ]
  },
  {
   "cell_type": "code",
   "execution_count": 71,
   "metadata": {},
   "outputs": [],
   "source": [
    "target_column = \"income_class\"\n",
    "sensitive_feature = \"sex\"\n",
    "features = train_data.columns.difference([target_column, sensitive_feature]).tolist()"
   ]
  },
  {
   "cell_type": "code",
   "execution_count": 72,
   "metadata": {},
   "outputs": [
    {
     "data": {
      "text/html": [
       "<div>\n",
       "<style scoped>\n",
       "    .dataframe tbody tr th:only-of-type {\n",
       "        vertical-align: middle;\n",
       "    }\n",
       "\n",
       "    .dataframe tbody tr th {\n",
       "        vertical-align: top;\n",
       "    }\n",
       "\n",
       "    .dataframe thead th {\n",
       "        text-align: right;\n",
       "    }\n",
       "</style>\n",
       "<table border=\"1\" class=\"dataframe\">\n",
       "  <thead>\n",
       "    <tr style=\"text-align: right;\">\n",
       "      <th></th>\n",
       "      <th>age</th>\n",
       "      <th>workclass</th>\n",
       "      <th>education</th>\n",
       "      <th>education_num</th>\n",
       "      <th>marital_status</th>\n",
       "      <th>occupation</th>\n",
       "      <th>relationship</th>\n",
       "      <th>race</th>\n",
       "      <th>sex</th>\n",
       "      <th>capital_gain</th>\n",
       "      <th>capital_loss</th>\n",
       "      <th>hours_per_week</th>\n",
       "      <th>native_country</th>\n",
       "      <th>income_class</th>\n",
       "    </tr>\n",
       "  </thead>\n",
       "  <tbody>\n",
       "    <tr>\n",
       "      <th>0</th>\n",
       "      <td>39</td>\n",
       "      <td>6</td>\n",
       "      <td>9</td>\n",
       "      <td>13</td>\n",
       "      <td>4</td>\n",
       "      <td>0</td>\n",
       "      <td>1</td>\n",
       "      <td>4</td>\n",
       "      <td>1</td>\n",
       "      <td>2174.0</td>\n",
       "      <td>0</td>\n",
       "      <td>40</td>\n",
       "      <td>38</td>\n",
       "      <td>0</td>\n",
       "    </tr>\n",
       "    <tr>\n",
       "      <th>1</th>\n",
       "      <td>50</td>\n",
       "      <td>5</td>\n",
       "      <td>9</td>\n",
       "      <td>13</td>\n",
       "      <td>2</td>\n",
       "      <td>3</td>\n",
       "      <td>0</td>\n",
       "      <td>4</td>\n",
       "      <td>1</td>\n",
       "      <td>0.0</td>\n",
       "      <td>0</td>\n",
       "      <td>13</td>\n",
       "      <td>38</td>\n",
       "      <td>0</td>\n",
       "    </tr>\n",
       "    <tr>\n",
       "      <th>2</th>\n",
       "      <td>38</td>\n",
       "      <td>3</td>\n",
       "      <td>11</td>\n",
       "      <td>9</td>\n",
       "      <td>0</td>\n",
       "      <td>5</td>\n",
       "      <td>1</td>\n",
       "      <td>4</td>\n",
       "      <td>1</td>\n",
       "      <td>0.0</td>\n",
       "      <td>0</td>\n",
       "      <td>40</td>\n",
       "      <td>38</td>\n",
       "      <td>0</td>\n",
       "    </tr>\n",
       "    <tr>\n",
       "      <th>3</th>\n",
       "      <td>53</td>\n",
       "      <td>3</td>\n",
       "      <td>1</td>\n",
       "      <td>7</td>\n",
       "      <td>2</td>\n",
       "      <td>5</td>\n",
       "      <td>0</td>\n",
       "      <td>2</td>\n",
       "      <td>1</td>\n",
       "      <td>0.0</td>\n",
       "      <td>0</td>\n",
       "      <td>40</td>\n",
       "      <td>38</td>\n",
       "      <td>0</td>\n",
       "    </tr>\n",
       "    <tr>\n",
       "      <th>4</th>\n",
       "      <td>28</td>\n",
       "      <td>3</td>\n",
       "      <td>9</td>\n",
       "      <td>13</td>\n",
       "      <td>2</td>\n",
       "      <td>9</td>\n",
       "      <td>5</td>\n",
       "      <td>2</td>\n",
       "      <td>0</td>\n",
       "      <td>0.0</td>\n",
       "      <td>0</td>\n",
       "      <td>40</td>\n",
       "      <td>4</td>\n",
       "      <td>0</td>\n",
       "    </tr>\n",
       "  </tbody>\n",
       "</table>\n",
       "</div>"
      ],
      "text/plain": [
       "   age  workclass  education  education_num  marital_status  occupation  \\\n",
       "0   39          6          9             13               4           0   \n",
       "1   50          5          9             13               2           3   \n",
       "2   38          3         11              9               0           5   \n",
       "3   53          3          1              7               2           5   \n",
       "4   28          3          9             13               2           9   \n",
       "\n",
       "   relationship  race  sex  capital_gain  capital_loss  hours_per_week  \\\n",
       "0             1     4    1        2174.0             0              40   \n",
       "1             0     4    1           0.0             0              13   \n",
       "2             1     4    1           0.0             0              40   \n",
       "3             0     2    1           0.0             0              40   \n",
       "4             5     2    0           0.0             0              40   \n",
       "\n",
       "   native_country  income_class  \n",
       "0              38             0  \n",
       "1              38             0  \n",
       "2              38             0  \n",
       "3              38             0  \n",
       "4               4             0  "
      ]
     },
     "execution_count": 72,
     "metadata": {},
     "output_type": "execute_result"
    }
   ],
   "source": [
    "train_data.head()"
   ]
  },
  {
   "cell_type": "markdown",
   "metadata": {},
   "source": [
    "### Data analysis"
   ]
  },
  {
   "cell_type": "code",
   "execution_count": 73,
   "metadata": {
    "scrolled": true
   },
   "outputs": [
    {
     "data": {
      "image/png": "[encoded data removed]",
      "text/plain": [
       "<Figure size 640x480 with 1 Axes>"
      ]
     },
     "metadata": {},
     "output_type": "display_data"
    }
   ],
   "source": [
    "plt.figure()\n",
    "fig = sns.countplot(data=train_data[[\"income_class\",\"sex\"]],\n",
    "                    x=\"income_class\",\n",
    "                    hue=\"sex\")\n",
    "fig.set_xticklabels(['income <= 50K','income > 50K'])\n",
    "plt.legend(title='sex', labels=['woman', 'men'])\n",
    "plt.title(\"Num of values in each category\")\n",
    "plt.show()\n",
    "plt.close()"
   ]
  },
  {
   "cell_type": "markdown",
   "metadata": {},
   "source": [
    "# A2. Prepare Data\n"
   ]
  },
  {
   "cell_type": "markdown",
   "metadata": {},
   "source": [
    "### A. Get train val test set"
   ]
  },
  {
   "cell_type": "code",
   "execution_count": 81,
   "metadata": {},
   "outputs": [],
   "source": [
    "from sklearn.model_selection import train_test_split\n",
    "X_train, X_val, y_train, y_val = train_test_split(train_data[features+[sensitive_feature]], train_data[[target_column]], test_size=0.1, random_state=1234)\n",
    "X_test, y_test = test_data[features], test_data[[target_column]]"
   ]
  },
  {
   "cell_type": "markdown",
   "metadata": {},
   "source": [
    "### B. Data Scalling"
   ]
  },
  {
   "cell_type": "code",
   "execution_count": 75,
   "metadata": {},
   "outputs": [],
   "source": [
    "from sklearn.preprocessing import StandardScaler\n",
    "\n",
    "scaler = StandardScaler()\n",
    "\n",
    "X_train_scaled = pd.DataFrame(scaler.fit_transform(X_train[features]),index=X_train.index,columns = features)\n",
    "X_val_scaled = pd.DataFrame(scaler.transform(X_val[features]),index=X_val.index,columns = features)\n",
    "X_test_scaled = pd.DataFrame(scaler.transform(X_test[features]),index=X_test.index ,columns = features) # note that here we just use the transform method!"
   ]
  },
  {
   "cell_type": "markdown",
   "metadata": {},
   "source": [
    "### C. Get torch itterator\n",
    "To efficiently iterate over the dataset during training, we will use PyTorch’s  `DataLoader` that consumes a `TensorDataset` object."
   ]
  },
  {
   "cell_type": "code",
   "execution_count": 76,
   "metadata": {},
   "outputs": [],
   "source": [
    "# covert data into tensors\n",
    "train_x_tensor = torch.tensor(X_train_scaled.values, dtype=torch.float)\n",
    "train_y_tensor = torch.tensor(y_train[[target_column]].values, dtype=torch.float)\n",
    "\n",
    "# use the dataset class wrapper for tensors\n",
    "train_tensor_dataset = torch.utils.data.TensorDataset(train_x_tensor, train_y_tensor)# there are more coplex dataset\n",
    "                                                                                     # i.e images or text data\n",
    "\n",
    "# pass the dataset class into Dataloader to batch and shuffle your data\n",
    "train_dataloader = torch.utils.data.DataLoader(train_tensor_dataset,\n",
    "                                               batch_size=32,\n",
    "                                               shuffle=True)"
   ]
  },
  {
   "cell_type": "code",
   "execution_count": 77,
   "metadata": {},
   "outputs": [],
   "source": [
    "# covert data into tensors\n",
    "val_x_tensor = torch.tensor(X_val_scaled.values, dtype=torch.float)\n",
    "val_y_tensor = torch.tensor(y_val[[target_column]].values, dtype=torch.float)\n",
    "\n",
    "# use the dataset class wrapper for tensors\n",
    "val_tensor_dataset = torch.utils.data.TensorDataset(val_x_tensor, val_y_tensor)"
   ]
  },
  {
   "cell_type": "code",
   "execution_count": 78,
   "metadata": {},
   "outputs": [],
   "source": [
    "# covert data into tensors\n",
    "test_x_tensor = torch.tensor(X_test_scaled.values, dtype=torch.float)\n",
    "test_y_tensor = torch.tensor(y_test[[target_column]].values, dtype=torch.float)\n",
    "\n",
    "# use the dataset class wrapper for tensors\n",
    "test_tensor_dataset = torch.utils.data.TensorDataset(test_x_tensor, test_y_tensor)"
   ]
  },
  {
   "cell_type": "markdown",
   "metadata": {},
   "source": [
    "The dataset is quite imbalance between a gender, so we expect our model to be unfair.\n",
    "The source of the bias is coming from our societal bias."
   ]
  },
  {
   "cell_type": "markdown",
   "metadata": {},
   "source": [
    "# A3. Define  Model"
   ]
  },
  {
   "cell_type": "code",
   "execution_count": 82,
   "metadata": {},
   "outputs": [],
   "source": [
    "class NeuralNetwork(torch.nn.Module):\n",
    "    \"\"\"\n",
    "    Simple two layer neural network for regression\n",
    "    \"\"\"\n",
    "    def __init__(self, num_input_features):\n",
    "        super().__init__()\n",
    "        \n",
    "        # layer 1\n",
    "        layer_1_units = 20\n",
    "        self.layer_1 = torch.nn.Linear(in_features=num_input_features,\n",
    "                                       out_features=layer_1_units)\n",
    "        self.activation_1 = torch.nn.ReLU()\n",
    "        \n",
    "        # layer  2\n",
    "        layer_2_units = 10\n",
    "        self.layer_2 = torch.nn.Linear(in_features=layer_1_units,\n",
    "                                       out_features=layer_2_units)\n",
    "        self.activation_2 = torch.nn.ReLU()\n",
    "        \n",
    "        # layer output layer\n",
    "        self.out_layer = torch.nn.Linear(in_features=layer_2_units,\n",
    "                                         out_features=1)\n",
    "        self.out_activation= torch.nn.Sigmoid()\n",
    "\n",
    "    def forward(self, x):\n",
    "        x_1 = self.activation_1( self.layer_1( x ) )\n",
    "        x_2 = self.activation_2( self.layer_2( x_1 ) )\n",
    "        output = self.out_activation(self.out_layer(x_2))\n",
    "        return output"
   ]
  },
  {
   "cell_type": "code",
   "execution_count": 83,
   "metadata": {},
   "outputs": [],
   "source": [
    "from sklearn.metrics import accuracy_score\n",
    "model = NeuralNetwork(num_input_features=12)"
   ]
  },
  {
   "cell_type": "markdown",
   "metadata": {},
   "source": [
    "### A4. Define training prossec"
   ]
  },
  {
   "cell_type": "code",
   "execution_count": 84,
   "metadata": {},
   "outputs": [],
   "source": [
    "def training_step(model, input_data, optimizer, loss_fn, lamda):\n",
    "    # reset gradients of the optimizer\n",
    "    optimizer.zero_grad()\n",
    "    \n",
    "    # unfold data\n",
    "    x_batch, y_batch = input_data\n",
    "    \n",
    "    # get predictions\n",
    "    y_pred_propa = model.forward(x_batch)\n",
    "    \n",
    "    # calculate loss\n",
    "    loss = loss_fn(y_pred_propa, y_batch)\n",
    "\n",
    "    # compute gradients \n",
    "    loss.backward()\n",
    "    \n",
    "    # optimise network\n",
    "    optimizer.step()\n",
    "    \n",
    "    # compute metrics for monitoring\n",
    "    with torch.no_grad(): \n",
    "        y_pred = (y_pred_propa>0.5) * 1\n",
    "        train_acc = torch.sum(y_pred == y_batch) / y_batch.shape[0]\n",
    "\n",
    "    return loss.data.numpy(), train_acc.data.numpy()"
   ]
  },
  {
   "cell_type": "code",
   "execution_count": 85,
   "metadata": {},
   "outputs": [],
   "source": [
    "def evaluation_step(model, input_data, loss_fn):\n",
    "    # when we use torch.no_grad pytorch didnt store information\n",
    "    # that is required to calculate gradients so is fasterr \n",
    "    with torch.no_grad(): \n",
    "        x_batch, y_batch = val_tensor_dataset.tensors\n",
    "        y_pred_proba = model(x_batch)\n",
    "        loss = loss_fn(y_pred_proba, y_batch)\n",
    "\n",
    "        # compute metrics\n",
    "        y_pred = (y_pred_proba>0.5) * 1\n",
    "        acc = torch.sum(y_pred == y_batch) / y_batch.shape[0]\n",
    "    return loss.data.numpy(), acc.data.numpy()"
   ]
  },
  {
   "cell_type": "code",
   "execution_count": 87,
   "metadata": {},
   "outputs": [],
   "source": [
    "# -------------------- Train  Loop----------------------------\n",
    "def train_loop(train_dataloaders, val_tensor_dataset, patient, epochs, model, optimizer, loss_fn, lamba, steps_per_epoch = 1000):\n",
    "    best_loss = np.inf\n",
    "    consecutive_epoch = 0\n",
    "    best_epoch = 0\n",
    "\n",
    "    train_history = []\n",
    "    val_history = []\n",
    "    for epoch in range(epochs): # iterate over epoch    \n",
    "        \n",
    "        # -------------------- Training on each epoch ----------------------------\n",
    "        accumulated_loss = 0 # monitor loss during training\n",
    "        accumulated_accuracy = 0 # monitor  accuracy during training\n",
    "        accuracy_list = []\n",
    "        for step in range(steps_per_epoch):\n",
    "            batch_data = next(iter(train_dataloader))\n",
    "            loss, accuracy = training_step(model,batch_data,optimizer,loss_fn,lamba) # train model using a single batch\n",
    "            accuracy_list += [accuracy]\n",
    "            accumulated_loss = (step * accumulated_loss + loss)/(step+1)\n",
    "            accumulated_accuracy =  (step * accumulated_accuracy + accuracy)/(step+1)\n",
    "\n",
    "        train_history += [{\"loss\":accumulated_loss, \"accuracy\":accumulated_accuracy, \"epoch\": epoch, \"set\":\"train\"}]\n",
    "\n",
    "        # -------------------- Monitor Error Validation set ----------------------------\n",
    "        val_loss, val_accuracy = evaluation_step(model, val_tensor_dataset, loss_fn)\n",
    "        val_history += [{\"loss\":val_loss, \"accuracy\":val_accuracy, \"epoch\": epoch, \"set\":\"val\"}]\n",
    "        if epoch % 10 == 0:\n",
    "            print(f\"Epoch {epoch}/{epochs}:  loss:{accumulated_loss:.3f}, accuracy-:{accumulated_accuracy:.3f}, val_loss:{val_loss:.3f}, val_accuracy->{val_accuracy:.3f}\")\n",
    "\n",
    "        # -------------------- Early Stoping ----------------------------\n",
    "        if val_loss > best_loss:\n",
    "            consecutive_epoch += 1\n",
    "        else:\n",
    "            best_loss = val_loss # we have an improvement\n",
    "            consecutive_epoch = 0 # reset counter\n",
    "            best_epoch = epoch\n",
    "            best_weights = model.state_dict()\n",
    "\n",
    "        if consecutive_epoch > patient:\n",
    "            model.load_state_dict(best_weights) # set best weights\n",
    "            break\n",
    "    val_history_df = pd.DataFrame(val_history)\n",
    "    train_history_df = pd.DataFrame(train_history)\n",
    "    return model, val_history_df, train_history_df, best_loss, best_epoch, best_weights"
   ]
  },
  {
   "cell_type": "code",
   "execution_count": 88,
   "metadata": {},
   "outputs": [
    {
     "name": "stdout",
     "output_type": "stream",
     "text": [
      "Epoch 0/2000:  loss:0.617, accuracy-:0.752, val_loss:0.607, val_accuracy->0.755\n",
      "Epoch 10/2000:  loss:0.520, accuracy-:0.759, val_loss:0.523, val_accuracy->0.756\n",
      "Epoch 20/2000:  loss:0.445, accuracy-:0.795, val_loss:0.455, val_accuracy->0.791\n",
      "Epoch 30/2000:  loss:0.418, accuracy-:0.806, val_loss:0.410, val_accuracy->0.810\n",
      "Epoch 40/2000:  loss:0.412, accuracy-:0.809, val_loss:0.392, val_accuracy->0.818\n",
      "Epoch 50/2000:  loss:0.382, accuracy-:0.823, val_loss:0.383, val_accuracy->0.823\n",
      "Epoch 60/2000:  loss:0.391, accuracy-:0.811, val_loss:0.377, val_accuracy->0.822\n",
      "Epoch 70/2000:  loss:0.382, accuracy-:0.827, val_loss:0.373, val_accuracy->0.824\n",
      "Epoch 80/2000:  loss:0.369, accuracy-:0.829, val_loss:0.370, val_accuracy->0.825\n",
      "Epoch 90/2000:  loss:0.355, accuracy-:0.838, val_loss:0.367, val_accuracy->0.825\n",
      "Epoch 100/2000:  loss:0.353, accuracy-:0.838, val_loss:0.364, val_accuracy->0.826\n",
      "Epoch 110/2000:  loss:0.376, accuracy-:0.820, val_loss:0.361, val_accuracy->0.830\n",
      "Epoch 120/2000:  loss:0.352, accuracy-:0.840, val_loss:0.358, val_accuracy->0.830\n",
      "Epoch 130/2000:  loss:0.346, accuracy-:0.843, val_loss:0.356, val_accuracy->0.832\n",
      "Epoch 140/2000:  loss:0.351, accuracy-:0.838, val_loss:0.354, val_accuracy->0.830\n",
      "Epoch 150/2000:  loss:0.376, accuracy-:0.829, val_loss:0.352, val_accuracy->0.830\n",
      "Epoch 160/2000:  loss:0.349, accuracy-:0.836, val_loss:0.349, val_accuracy->0.833\n",
      "Epoch 170/2000:  loss:0.346, accuracy-:0.836, val_loss:0.347, val_accuracy->0.833\n",
      "Epoch 180/2000:  loss:0.353, accuracy-:0.829, val_loss:0.345, val_accuracy->0.831\n",
      "Epoch 190/2000:  loss:0.355, accuracy-:0.834, val_loss:0.343, val_accuracy->0.830\n",
      "Epoch 200/2000:  loss:0.350, accuracy-:0.834, val_loss:0.341, val_accuracy->0.834\n",
      "Epoch 210/2000:  loss:0.360, accuracy-:0.822, val_loss:0.340, val_accuracy->0.835\n",
      "Epoch 220/2000:  loss:0.350, accuracy-:0.832, val_loss:0.338, val_accuracy->0.836\n",
      "Epoch 230/2000:  loss:0.334, accuracy-:0.846, val_loss:0.335, val_accuracy->0.840\n",
      "Epoch 240/2000:  loss:0.335, accuracy-:0.839, val_loss:0.333, val_accuracy->0.839\n",
      "Epoch 250/2000:  loss:0.332, accuracy-:0.841, val_loss:0.333, val_accuracy->0.843\n",
      "Epoch 260/2000:  loss:0.328, accuracy-:0.843, val_loss:0.332, val_accuracy->0.841\n",
      "Epoch 270/2000:  loss:0.355, accuracy-:0.839, val_loss:0.331, val_accuracy->0.841\n",
      "Epoch 280/2000:  loss:0.334, accuracy-:0.846, val_loss:0.331, val_accuracy->0.840\n",
      "Epoch 290/2000:  loss:0.337, accuracy-:0.844, val_loss:0.328, val_accuracy->0.842\n",
      "Epoch 300/2000:  loss:0.354, accuracy-:0.829, val_loss:0.328, val_accuracy->0.840\n",
      "Epoch 310/2000:  loss:0.323, accuracy-:0.851, val_loss:0.327, val_accuracy->0.843\n",
      "Epoch 320/2000:  loss:0.331, accuracy-:0.847, val_loss:0.326, val_accuracy->0.845\n",
      "Epoch 330/2000:  loss:0.319, accuracy-:0.852, val_loss:0.326, val_accuracy->0.842\n",
      "Epoch 340/2000:  loss:0.344, accuracy-:0.845, val_loss:0.325, val_accuracy->0.843\n",
      "Epoch 350/2000:  loss:0.334, accuracy-:0.839, val_loss:0.326, val_accuracy->0.844\n",
      "Epoch 360/2000:  loss:0.360, accuracy-:0.823, val_loss:0.325, val_accuracy->0.845\n",
      "Epoch 370/2000:  loss:0.348, accuracy-:0.839, val_loss:0.325, val_accuracy->0.843\n",
      "Epoch 380/2000:  loss:0.348, accuracy-:0.835, val_loss:0.325, val_accuracy->0.845\n",
      "Epoch 390/2000:  loss:0.315, accuracy-:0.846, val_loss:0.324, val_accuracy->0.846\n",
      "Epoch 400/2000:  loss:0.335, accuracy-:0.833, val_loss:0.323, val_accuracy->0.846\n",
      "Epoch 410/2000:  loss:0.347, accuracy-:0.831, val_loss:0.323, val_accuracy->0.846\n",
      "Epoch 420/2000:  loss:0.333, accuracy-:0.835, val_loss:0.322, val_accuracy->0.846\n",
      "Epoch 430/2000:  loss:0.318, accuracy-:0.849, val_loss:0.322, val_accuracy->0.848\n",
      "Epoch 440/2000:  loss:0.314, accuracy-:0.852, val_loss:0.322, val_accuracy->0.847\n",
      "Epoch 450/2000:  loss:0.317, accuracy-:0.852, val_loss:0.322, val_accuracy->0.846\n",
      "Epoch 460/2000:  loss:0.339, accuracy-:0.831, val_loss:0.322, val_accuracy->0.846\n",
      "Epoch 470/2000:  loss:0.327, accuracy-:0.845, val_loss:0.323, val_accuracy->0.846\n",
      "Epoch 480/2000:  loss:0.329, accuracy-:0.840, val_loss:0.324, val_accuracy->0.844\n",
      "Epoch 490/2000:  loss:0.330, accuracy-:0.840, val_loss:0.323, val_accuracy->0.846\n",
      "Epoch 500/2000:  loss:0.323, accuracy-:0.850, val_loss:0.322, val_accuracy->0.848\n",
      "Epoch 510/2000:  loss:0.340, accuracy-:0.829, val_loss:0.322, val_accuracy->0.847\n",
      "Epoch 520/2000:  loss:0.328, accuracy-:0.845, val_loss:0.322, val_accuracy->0.847\n",
      "Epoch 530/2000:  loss:0.333, accuracy-:0.840, val_loss:0.321, val_accuracy->0.848\n",
      "Epoch 540/2000:  loss:0.316, accuracy-:0.849, val_loss:0.321, val_accuracy->0.848\n",
      "Epoch 550/2000:  loss:0.322, accuracy-:0.848, val_loss:0.321, val_accuracy->0.849\n",
      "Epoch 560/2000:  loss:0.331, accuracy-:0.840, val_loss:0.321, val_accuracy->0.847\n",
      "Epoch 570/2000:  loss:0.330, accuracy-:0.848, val_loss:0.321, val_accuracy->0.847\n",
      "Epoch 580/2000:  loss:0.334, accuracy-:0.848, val_loss:0.321, val_accuracy->0.847\n",
      "Epoch 590/2000:  loss:0.341, accuracy-:0.841, val_loss:0.321, val_accuracy->0.847\n",
      "Epoch 600/2000:  loss:0.332, accuracy-:0.846, val_loss:0.321, val_accuracy->0.847\n",
      "Epoch 610/2000:  loss:0.327, accuracy-:0.847, val_loss:0.321, val_accuracy->0.848\n",
      "Epoch 620/2000:  loss:0.324, accuracy-:0.845, val_loss:0.321, val_accuracy->0.847\n"
     ]
    },
    {
     "data": {
      "text/plain": [
       "array(0.31996992, dtype=float32)"
      ]
     },
     "execution_count": 88,
     "metadata": {},
     "output_type": "execute_result"
    }
   ],
   "source": [
    "model = NeuralNetwork(num_input_features=12)\n",
    "\n",
    "lr = 0.005\n",
    "optimizer = torch.optim.SGD(model.parameters(), lr=lr, weight_decay=0.00)\n",
    "loss_fn = torch.nn.BCELoss() # binary cross entropy\n",
    "\n",
    "model, val_history, train_history, best_loss, best_epoch, best_weights = train_loop(train_dataloader,\n",
    "                                                                                    val_tensor_dataset,\n",
    "                                                                                    patient = 50,\n",
    "                                                                                    epochs=2000,\n",
    "                                                                                    model=model,\n",
    "                                                                                    optimizer=optimizer,\n",
    "                                                                                    loss_fn=loss_fn,\n",
    "                                                                                    steps_per_epoch=100,\n",
    "                                                                                    lamba = 0.01)\n",
    "best_loss"
   ]
  },
  {
   "cell_type": "code",
   "execution_count": 89,
   "metadata": {},
   "outputs": [
    {
     "data": {
      "text/plain": [
       "<matplotlib.legend.Legend at 0x176c69eb0>"
      ]
     },
     "execution_count": 89,
     "metadata": {},
     "output_type": "execute_result"
    },
    {
     "data": {
      "image/png": "[encoded data removed]",
      "text/plain": [
       "<Figure size 640x480 with 1 Axes>"
      ]
     },
     "metadata": {},
     "output_type": "display_data"
    }
   ],
   "source": [
    "plt.figure()\n",
    "plt.plot(train_history[\"epoch\"],train_history[\"loss\"], label = \"Training set\")\n",
    "plt.plot(val_history[\"epoch\"],val_history[\"loss\"], label = \"Validation set\")\n",
    "plt.title(\"Learning Curve no Early Stopping\")\n",
    "plt.ylabel(\"Cross Entropy Loss\")\n",
    "plt.xlabel(\"Epoch\")\n",
    "plt.legend()"
   ]
  },
  {
   "cell_type": "code",
   "execution_count": 90,
   "metadata": {},
   "outputs": [],
   "source": [
    "predictions = model(test_tensor_dataset.tensors[0]).detach().numpy()\n",
    "predictions = (predictions>0.5)*1\n",
    "accuracy = accuracy_score(y_true=test_tensor_dataset.tensors[1].detach().numpy(), y_pred=predictions)"
   ]
  },
  {
   "cell_type": "code",
   "execution_count": 91,
   "metadata": {},
   "outputs": [
    {
     "data": {
      "text/plain": [
       "0.8475782537067545"
      ]
     },
     "execution_count": 91,
     "metadata": {},
     "output_type": "execute_result"
    }
   ],
   "source": [
    "accuracy"
   ]
  },
  {
   "cell_type": "code",
   "execution_count": 92,
   "metadata": {},
   "outputs": [
    {
     "name": "stdout",
     "output_type": "stream",
     "text": [
      "Accuracy_score: 0.8475782537067545\n"
     ]
    }
   ],
   "source": [
    "print(\"Accuracy_score:\", accuracy)"
   ]
  },
  {
   "cell_type": "markdown",
   "metadata": {},
   "source": [
    "# B. Evaluate Fairness"
   ]
  },
  {
   "cell_type": "markdown",
   "metadata": {},
   "source": [
    "### B1.  Demographic Parity\n",
    "\n",
    "**Demographic parity** , also referred to as **statistical parity** , **acceptance rate parity**  and **benchmarking**\n",
    "\n",
    "Demographic Parity states that the positive outcome rates between sensitive group must be the same.\n",
    "\n",
    "---------------\n",
    "> **Definition Demographic Parity :** We say that a predictor $\\hat{Y}$ satisfy **demographic parity** if the predictions $\\hat{Y}$ are independent of the sensitive atribute $S$, $\\hat{Y} \\perp S$.\n",
    "$$ P_r(\\hat{Y}= 1 | S = s ) =  P_r(\\hat{Y} = 1), \\quad  \\forall s\\in S $$\n",
    "\n",
    "in case of 2 sensitive classes, $ s \\in \\{0,1\\}  $ we mesure the bias of model as follows:\n",
    "$$DP = \\; \\mid P_r(\\hat{Y}= 1 | S = 0 ) -  P_r(\\hat{Y}= 1 | S = 1 ) \\mid $$  \n",
    "---------------"
   ]
  },
  {
   "cell_type": "code",
   "execution_count": 93,
   "metadata": {},
   "outputs": [],
   "source": [
    "def demographic_parity_difference(predictions, sensitive_attribute):\n",
    "    \"\"\"\n",
    "    Implementation of demographic parity difference for different groups of sensitive attribute\n",
    "    1. For each group calculate the propotion of accepted rate.\n",
    "    2. Find the maximum and the minim group.\n",
    "    3. Calcaulte the difference.\n",
    "    \"\"\"\n",
    "    # 1. For each group calculate the proportion of positive predictions.\n",
    "    # group 0 \n",
    "    group0_mask = sensitive_atribute == 0\n",
    "    predictions_group0 = predictions[group0_mask]\n",
    "    labels_group0 = test_data.loc[group0_mask, target_column]\n",
    "\n",
    "    positive_rate_group0 = np.sum(predictions_group0 == 1)*1/ predictions_group0.shape[0]\n",
    "\n",
    "    # group 1 \n",
    "    group1_mask = sensitive_atribute == 1\n",
    "    predictions_group1 = predictions[group1_mask]\n",
    "    labels_group0 = test_data.loc[group1_mask, target_column]\n",
    "\n",
    "    positive_rate_group1 = np.sum(predictions_group1 == 1)*1 / predictions_group1.shape[0]\n",
    "    \n",
    "    # 3. Calculate the different.\n",
    "    difference = np.abs(positive_rate_group0-positive_rate_group1)\n",
    "    \n",
    "    return difference, [positive_rate_group0, positive_rate_group1]"
   ]
  },
  {
   "cell_type": "markdown",
   "metadata": {},
   "source": [
    "## B2. Equalized Opportunities\n",
    "\n",
    "**Equalized Opportunities** , also referred to as **true positive parity**, **sensitivity**.\n",
    "\n",
    "Equalized Opportunities states that each group has equal true positive rates.\n",
    "\n",
    "---------------\n",
    "> **Definition Equalized Opportunities :** We say that a predictor $\\hat{Y}$ satisfy **equalized opportunities** if the predictions $\\hat{Y}$ are independent of the sensitive atribute $S$, conditioned on the positive actual outcome \\( Y = 1 \\), $\\hat{Y} \\perp S \\mid Y = 1$.\n",
    "$$ P_r(\\hat{Y} = 1 | S = s, Y = 1) = P_r(\\hat{Y} = 1 | Y = 1), \\quad \\forall s \\in S $$\n",
    "\n",
    "in case of 2 sensitive classes, $ s \\in \\{0,1\\}  $ we mesure the bias of model as follows:\n",
    "$$EO = \\; \\mid P_r(\\hat{Y} = 1 | S = 0, Y = 1) -  P_r(\\hat{Y} = 1 | S = 1, Y = 1) \\mid $$  \n",
    "---------------"
   ]
  },
  {
   "cell_type": "code",
   "execution_count": 94,
   "metadata": {},
   "outputs": [],
   "source": [
    "def equalized_opportunities_difference(predictions, actual, sensitive_attribute):\n",
    "    \"\"\"\n",
    "    Implementation of equalized opportunities difference for different groups of sensitive attribute\n",
    "    1. For each group calculate the TPR.\n",
    "    2. Find the maximum and the minim group.\n",
    "    3. Calculate the difference.\n",
    "    \"\"\"\n",
    "    # 1. For each group calculate the proportion of positive predictions.\n",
    "    # group 0 \n",
    "    true_positive_mask = test_data[target_column]==1\n",
    "    group0_mask = sensitive_atribute == 0\n",
    "    predictions_group0 = predictions[np.logical_and(group0_mask, true_positive_mask)]\n",
    "\n",
    "    true_positive_rate_group0 = np.sum(predictions_group0 == 1)*1/ predictions_group0.shape[0]\n",
    "\n",
    "    # group 1 \n",
    "    group1_mask = sensitive_atribute == 1\n",
    "    predictions_group1 = predictions[np.logical_and(group1_mask, true_positive_mask)]\n",
    "    labels_group0 = test_data.loc[group1_mask, target_column]\n",
    "\n",
    "    true_positive_rate_group1 = np.sum(predictions_group1 == 1)*1 / predictions_group1.shape[0]\n",
    "    \n",
    "    # 3. Calculate the different.\n",
    "    difference = np.abs(true_positive_rate_group0-true_positive_rate_group1)\n",
    "    \n",
    "    return difference, [true_positive_rate_group0, true_positive_rate_group1]"
   ]
  },
  {
   "cell_type": "markdown",
   "metadata": {},
   "source": [
    "## B3. Equalized Odds\n",
    "\n",
    "**Equalized Odds** , also referred to as\n",
    "\n",
    "Equalized Odds states that the true positive rates (TPR) and false positive rates (FPR) between sensitive group must be the same.\n",
    "\n",
    "---------------\n",
    "> **Definition Equalized Odds :** A classifier $C$ We say that a predictor $\\hat{Y}$ satisfy **equalized Odds** if the predictions $\\hat{Y}$ are independent of the sensitive atribute $S$, conditioned on the actual outcome \\( Y \\), $\\hat{Y} \\perp S \\mid Y$.\n",
    "$$ P_r(\\hat{Y} = 1 | S = s, Y = y) = P_r(\\hat{Y} = 1 | Y = y), \\quad \\forall s \\in S \\quad \\forall y \\in Y$$\n",
    "\n",
    "in case of 2 sensitive classes, $ s \\in \\{0,1\\}  $ we want to satisfy both:\n",
    "$$ P_c(\\hat{Y}= 1 | S = 0, Y = 1 ) =  P_c(\\hat{Y}= 1 | S = 1, Y = 1 ) $$ \n",
    "and \n",
    "$$ P_c(\\hat{Y}= 1 | S = 0, Y = 0 ) =  P_c(\\hat{Y}= 1 | S = 1, Y = 0 ) $$  \n",
    "---------------\n",
    "we mesure the bias of model as follows:\n",
    "$$EOds = \\; \\mid P_r(\\hat{Y} = 1 | S = 0, Y = 1) -  P_r(\\hat{Y} = 1 | S = 1, Y = 1) \\mid + \\mid P_r(\\hat{Y} = 1 | S = 0, Y = 0) -  P_r(\\hat{Y} = 1 | S = 1, Y = 0) \\mid  $$  "
   ]
  },
  {
   "cell_type": "code",
   "execution_count": 95,
   "metadata": {},
   "outputs": [],
   "source": [
    "def equalized_odds_difference(predictions, data, sensitive_attribute):\n",
    "    \"\"\"\n",
    "    Implementation of equalized odds difference for different groups of sensitive attribute\n",
    "    1. For each group calculate the TPR.\n",
    "    2. Find the maximum and the minim group.\n",
    "    3. Calcaulte the difference.\n",
    "    \"\"\"\n",
    "    # A. For each group calculate the true positive rate.\n",
    "    # group 0 \n",
    "    true_positive_mask = data[target_column]==1\n",
    "    group0_mask = sensitive_atribute == 0\n",
    "    predictions_group0 = predictions[np.logical_and(group0_mask, true_positive_mask)]\n",
    "    labels_group0 = data.loc[group0_mask, target_column]\n",
    "\n",
    "    true_positive_rate_group0 = np.sum(predictions_group0 == 1)*1/ predictions_group0.shape[0]\n",
    "\n",
    "    # group 1 \n",
    "    group1_mask = sensitive_atribute == 1\n",
    "    predictions_group1 = predictions[np.logical_and(group1_mask, true_positive_mask)]\n",
    "    labels_group0 = data.loc[group1_mask, target_column]\n",
    "\n",
    "    true_positive_rate_group1 = np.sum(predictions_group1 == 1)*1 / predictions_group1.shape[0]\n",
    "    \n",
    "    # Calculate the different.\n",
    "    difference1 = np.abs(true_positive_rate_group0-true_positive_rate_group1)\n",
    "    \n",
    "    # B. For each group calculate the false positive rate.\n",
    "    # group 0 \n",
    "    true_positive_mask = data[target_column]==0\n",
    "    group0_mask = sensitive_atribute == 0\n",
    "    predictions_group0 = predictions[np.logical_and(group0_mask, true_positive_mask)]\n",
    "    labels_group0 = data.loc[group0_mask, target_column]\n",
    "\n",
    "    false_positive_rate_group0 = np.sum(predictions_group0 == 1)/ predictions_group0.shape[0]\n",
    "\n",
    "    # group 1 \n",
    "    group1_mask = sensitive_atribute == 1\n",
    "    predictions_group1 = predictions[np.logical_and(group1_mask, true_positive_mask)]\n",
    "    labels_group0 = data.loc[group1_mask, target_column]\n",
    "\n",
    "    false_positive_rate_group1 = np.sum(predictions_group1 == 1) / predictions_group1.shape[0]\n",
    "    \n",
    "    # Calculate the different.\n",
    "    difference2 = np.abs(false_positive_rate_group0-false_positive_rate_group1)\n",
    "    \n",
    "    # Total difference\n",
    "    difference = difference1 + difference2\n",
    "    return difference, ([true_positive_rate_group0,true_positive_rate_group1], [false_positive_rate_group0,false_positive_rate_group1])"
   ]
  },
  {
   "cell_type": "markdown",
   "metadata": {},
   "source": [
    "Wrap the evaluation in a single function"
   ]
  },
  {
   "cell_type": "code",
   "execution_count": 96,
   "metadata": {},
   "outputs": [],
   "source": [
    "def compute_metric(y_pred, data, sensitive_feature):\n",
    "    # get all metrics\n",
    "    acc_score = accuracy_score(y_true=data[target_column], y_pred=y_pred)\n",
    "    \n",
    "    demographic_metric, _ = demographic_parity_difference(y_pred,\n",
    "                                                          sensitive_feature)\n",
    "    \n",
    "    equalized_opportunities_metric, _ = equalized_opportunities_difference(y_pred,\n",
    "                                                                           data,\n",
    "                                                                          sensitive_feature)\n",
    "    equalized_odds_metrics, _ = equalized_odds_difference(y_pred,\n",
    "                                                          data,\n",
    "                                                          sensitive_feature)\n",
    "    \n",
    "    return {\n",
    "            \"accuracy\": acc_score,\n",
    "            \"demographic_metric\": demographic_metric,\n",
    "            \"equalized_opportunities\" : equalized_opportunities_metric,\n",
    "            \"equalized_odds\": equalized_odds_metrics\n",
    "            }"
   ]
  },
  {
   "cell_type": "code",
   "execution_count": 97,
   "metadata": {},
   "outputs": [],
   "source": [
    "predictions = model(test_tensor_dataset.tensors[0]).detach().numpy()\n",
    "predictions = (predictions>0.5)*1"
   ]
  },
  {
   "cell_type": "code",
   "execution_count": 98,
   "metadata": {},
   "outputs": [],
   "source": [
    "sensitive_atribute = test_data[sensitive_feature]"
   ]
  },
  {
   "cell_type": "code",
   "execution_count": 99,
   "metadata": {},
   "outputs": [],
   "source": [
    "metrics = compute_metric(y_pred = predictions,\n",
    "                         data = test_data,\n",
    "                         sensitive_feature = sensitive_atribute)\n",
    "results = pd.DataFrame(metrics,\n",
    "                       index = [\"simple model\"]).T"
   ]
  },
  {
   "cell_type": "code",
   "execution_count": 100,
   "metadata": {},
   "outputs": [
    {
     "data": {
      "text/html": [
       "<div>\n",
       "<style scoped>\n",
       "    .dataframe tbody tr th:only-of-type {\n",
       "        vertical-align: middle;\n",
       "    }\n",
       "\n",
       "    .dataframe tbody tr th {\n",
       "        vertical-align: top;\n",
       "    }\n",
       "\n",
       "    .dataframe thead th {\n",
       "        text-align: right;\n",
       "    }\n",
       "</style>\n",
       "<table border=\"1\" class=\"dataframe\">\n",
       "  <thead>\n",
       "    <tr style=\"text-align: right;\">\n",
       "      <th></th>\n",
       "      <th>simple model</th>\n",
       "    </tr>\n",
       "  </thead>\n",
       "  <tbody>\n",
       "    <tr>\n",
       "      <th>accuracy</th>\n",
       "      <td>0.847578</td>\n",
       "    </tr>\n",
       "    <tr>\n",
       "      <th>demographic_metric</th>\n",
       "      <td>0.167036</td>\n",
       "    </tr>\n",
       "    <tr>\n",
       "      <th>equalized_opportunities</th>\n",
       "      <td>0.106897</td>\n",
       "    </tr>\n",
       "    <tr>\n",
       "      <th>equalized_odds</th>\n",
       "      <td>0.179301</td>\n",
       "    </tr>\n",
       "  </tbody>\n",
       "</table>\n",
       "</div>"
      ],
      "text/plain": [
       "                         simple model\n",
       "accuracy                     0.847578\n",
       "demographic_metric           0.167036\n",
       "equalized_opportunities      0.106897\n",
       "equalized_odds               0.179301"
      ]
     },
     "execution_count": 100,
     "metadata": {},
     "output_type": "execute_result"
    }
   ],
   "source": [
    "results"
   ]
  },
  {
   "cell_type": "code",
   "execution_count": 102,
   "metadata": {},
   "outputs": [
    {
     "data": {
      "text/plain": [
       "<AxesSubplot: >"
      ]
     },
     "execution_count": 102,
     "metadata": {},
     "output_type": "execute_result"
    },
    {
     "data": {
      "image/png": "[encoded data removed]",
      "text/plain": [
       "<Figure size 640x480 with 1 Axes>"
      ]
     },
     "metadata": {},
     "output_type": "display_data"
    }
   ],
   "source": [
    "results.plot(kind=\"bar\")"
   ]
  },
  {
   "cell_type": "markdown",
   "metadata": {},
   "source": [
    "# C. Correct the Unfair Classifier\n",
    "\n",
    "Numerous recent papers have proposed mechanisms to enhance fairness in machine learning algorithms.\n",
    "\n",
    "In summary, there are three general methods to correct an unfair classifier:\n",
    "\n",
    "1. **Pre-Processing**: Make changes to the data before training the model, e.g., removing correlated features.\n",
    "2. **In-Processing**: Make changes to the model to correct fairness, e.g., adding additional loss terms to ensure fairness.\n",
    "3. **Post-Processing**: Make changes after the model's output, e.g., adjusting classification thresholds.\n",
    "\n",
    "For an overview of different methods and fairness criteria, we refer you to the following interesting survey: [https://arxiv.org/pdf/2001.09784.pdf](https://arxiv.org/pdf/2001.09784.pdf).\n",
    "\n",
    "<div>\n",
    "<img style=\"float: left;\" src=\"./figures/corect_unfairness.png\" width=\"400\"/>\n",
    "</div>"
   ]
  },
  {
   "cell_type": "markdown",
   "metadata": {},
   "source": [
    "# Fair Regularization in Neural Networks\n",
    "\n",
    "In-processing techniques apply **constraints** or **regularization** during model optimization to enhance fairness.\n",
    "\n",
    "We will explore a regularization technique that imposes an additional term in the loss function to account for the model’s fairness.\n",
    "\n",
    "The total loss function is defined as follows:\n",
    "\n",
    "$$ L = L_{\\text{perf}} + \\lambda_{1} ||w||^2 + \\lambda_{fair}  L_{\\text{fair}} $$\n",
    "\n",
    "Where:\n",
    "- $ L_{\\text{perf}}$ : A loss term that evaluates the model's performance, such as binary cross-entropy.\n",
    "- $ ||w||^2 $ : A penalty term, L2 regularization, to prevent overfitting by constraining model complexity.\n",
    "- $ L_{\\text{fair}}$ : A penalty term to reduce the model’s bias. This term is adapted to the specific fairness criterion we aim to impose, such as Demographic Parity, Equal Opportunity, or Equalized Odds.\n",
    "\n",
    "The parameter $\\lambda_fair$ controls the strength of the fairness constraint, balancing model accuracy with fairness objectives.\n"
   ]
  },
  {
   "cell_type": "markdown",
   "metadata": {},
   "source": [
    "## Optimise Propability Distributions\n",
    "\n",
    "In fairness-aware machine learning, we impose regularization on model probabilities rather than the final output to  control and adjust the model's decision-making process. By focusing on probabilities, we can introduce a continuous, differentiable measure of fairness that is directly aligned with how the model assigns confidence to its predictions. \n",
    "\n",
    "### Demographic Parity\n",
    "\n",
    "Demographic Parity requires that the predicted probabilities are the same across different groups defined by a sensitive attribute, such as gender or race. Formally, for a sensitive attribute \\( A \\) (e.g., gender), Demographic Parity can be defined as:\n",
    "\n",
    "$$\n",
    "DP = \\left| \\mathbb{E}_{x \\sim P(x | s=0)}[p(\\hat{y} = 1 | x)] - \\mathbb{E}_{x \\sim P(x | s=1)}[p(\\hat{y} = 1 | x)] \\right|\n",
    "$$\n",
    "\n",
    "Where:\n",
    "- $ s $ denotes the sensitive attribute (e.g., race, gender).\n",
    "- $ P(x | s=0) $ and $ P(x | s=1)$ are the distributions of the input features $x$ conditioned on the sensitive attribute $s = 0$ and $s = 1$, respectively.\n",
    "-$ p(\\hat{y} = 1 | x)$ is the predicted probability for the outcome $\\hat{y} = 1$, given input $x$, form our model.\n",
    "\n",
    "\n",
    "This means the expected probability of predicting $y = 1$ should be the same for all groups $a$ and $b$ of the sensitive attribute $A$. By regularizing the probabilities, we directly control this balance during training, ensuring that the model does not favor one group over another in terms of predicted outcomes. \n",
    "\n",
    "By applying this fairness constraint to the probabilities, rather than the final binary output $\\hat{y}$, we ensure that fairness is maintained throughout the model’s decision process, leading to more equitable predictions across different demographic groups.\n"
   ]
  },
  {
   "cell_type": "code",
   "execution_count": 104,
   "metadata": {},
   "outputs": [],
   "source": [
    "def training_step(model, input_data, optimizer, loss_fn, lamba):\n",
    "    # reset gradients of the optimizer\n",
    "    optimizer.zero_grad()\n",
    "    \n",
    "    # unfold data\n",
    "    (x_batch_g0, y_batch_g0),(x_batch_g1, y_batch_g1) = input_data\n",
    "    \n",
    "    # get predictions\n",
    "    y_pred_propa_g0 = model.forward(x_batch_g0)\n",
    "    y_pred_propa_g1 = model.forward(x_batch_g1)\n",
    "\n",
    "    # calculate loss\n",
    "    loss_g0 = loss_fn(y_pred_propa_g0, y_batch_g0)\n",
    "    loss_g1 = loss_fn(y_pred_propa_g1, y_batch_g1)\n",
    "    total_loss = (loss_g0 + loss_g1)/2\n",
    "    \n",
    "    # regularization\n",
    "    regularization = torch.abs(torch.mean(y_pred_propa_g0) - torch.mean(y_pred_propa_g1))\n",
    "    \n",
    "    # total loss\n",
    "    loss = total_loss + lamba * regularization\n",
    "    \n",
    "    # compute gradients \n",
    "    loss.backward()\n",
    "    \n",
    "    # optimise network\n",
    "    optimizer.step()\n",
    "    \n",
    "    # compute metrics for monitoring\n",
    "    with torch.no_grad(): \n",
    "        y_pred_propa = torch.concat([y_pred_propa_g0, y_pred_propa_g1])\n",
    "        y_true = torch.concat([y_batch_g0, y_batch_g1])\n",
    "        y_pred = (y_pred_propa>0.5) * 1\n",
    "        train_acc = torch.sum(y_pred == y_true) / y_pred.shape[0]\n",
    "\n",
    "    return loss.data.numpy(), train_acc"
   ]
  },
  {
   "cell_type": "code",
   "execution_count": 105,
   "metadata": {},
   "outputs": [],
   "source": [
    "def evaluation_step(model, input_data, loss_fn, lamba):\n",
    "    # when we use torch.no_grad pytorch didnt store information\n",
    "    # that is required to calculate gradients so is fasterr \n",
    "    with torch.no_grad(): \n",
    "        data_g0, data_g1= input_data\n",
    "        (x_batch_g0, y_batch_g0) = data_g0.tensors\n",
    "        (x_batch_g1, y_batch_g1) = data_g1.tensors\n",
    "        y_pred_propa_g0 = model.forward(x_batch_g0)\n",
    "        y_pred_propa_g1 = model.forward(x_batch_g1)\n",
    "        \n",
    "        # calculate loss\n",
    "        loss_g0 = loss_fn(y_pred_propa_g0, y_batch_g0)\n",
    "        loss_g1 = loss_fn(y_pred_propa_g1, y_batch_g1)\n",
    "        total_loss = (loss_g0 + loss_g1)/2\n",
    "    \n",
    "        # regularization\n",
    "        regularization = torch.abs(torch.mean(y_pred_propa_g0) - torch.mean(y_pred_propa_g1))\n",
    "    \n",
    "        # total loss\n",
    "        loss = total_loss + lamba * regularization\n",
    "\n",
    "        # compute metrics\n",
    "        y_pred_propa = torch.concat([y_pred_propa_g0, y_pred_propa_g1])\n",
    "        y_true = torch.concat([y_batch_g0, y_batch_g1])\n",
    "        y_pred = (y_pred_propa>0.5) * 1\n",
    "        acc = torch.sum(y_pred == y_true) / y_pred.shape[0]\n",
    "        \n",
    "    return loss.data.numpy(), acc.data.numpy()"
   ]
  },
  {
   "cell_type": "code",
   "execution_count": 106,
   "metadata": {},
   "outputs": [],
   "source": [
    "# -------------------- Train  Loop----------------------------\n",
    "def train_loop(train_dataloaders, val_tensor_dataset, patient, epochs, model, optimizer, loss_fn, lamba, steps_per_epoch = 1000):\n",
    "    best_loss = np.inf\n",
    "    consecutive_epoch = 0\n",
    "    best_epoch = 0\n",
    "\n",
    "    train_history = []\n",
    "    val_history = []\n",
    "    for epoch in range(epochs): # iterate over epoch    \n",
    "        \n",
    "        # -------------------- Training on each epoch ----------------------------\n",
    "        accumulated_loss = 0 # monitor loss during training\n",
    "        accumulated_accuracy = 0 # monitor  accuracy during training\n",
    "        accuracy_list = []\n",
    "        for step in range(steps_per_epoch):\n",
    "            batch_data = []\n",
    "            d = map(iter,train_dataloaders)\n",
    "            for data in d:\n",
    "                batch_data += [next(data)]\n",
    "            loss, accuracy = training_step(model,batch_data,optimizer,loss_fn,lamba) # train model using a single batch\n",
    "            accuracy_list += [accuracy]\n",
    "            accumulated_loss = (step * accumulated_loss + loss)/(step+1)\n",
    "            accumulated_accuracy =  (step * accumulated_accuracy + accuracy)/(step+1)\n",
    "\n",
    "        train_history += [{\"loss\":accumulated_loss, \"accuracy\":accumulated_accuracy, \"epoch\": epoch, \"set\":\"train\"}]\n",
    "\n",
    "        # -------------------- Monitor Error Validation set ----------------------------\n",
    "        val_loss, val_accuracy = evaluation_step(model, val_tensor_dataset, loss_fn, lamba)\n",
    "        val_history += [{\"loss\":val_loss, \"accuracy\":val_accuracy, \"epoch\": epoch, \"set\":\"val\"}]\n",
    "        if epoch % 10 == 0:\n",
    "            print(f\"Epoch {epoch}/{epochs}:  loss:{accumulated_loss:.3f}, accuracy-:{accumulated_accuracy:.3f}, val_loss:{val_loss:.3f}, val_accuracy->{val_accuracy:.3f}\")\n",
    "\n",
    "        # -------------------- Early Stoping ----------------------------\n",
    "        if val_loss > best_loss:\n",
    "            consecutive_epoch += 1\n",
    "        else:\n",
    "            best_loss = val_loss # we have an improvement\n",
    "            consecutive_epoch = 0 # reset counter\n",
    "            best_epoch = epoch\n",
    "            best_weights = model.state_dict()\n",
    "\n",
    "        if consecutive_epoch > patient:\n",
    "            model.load_state_dict(best_weights) # set best weights\n",
    "            break\n",
    "    val_history_df = pd.DataFrame(val_history)\n",
    "    train_history_df = pd.DataFrame(train_history)\n",
    "    return model, val_history_df, train_history_df, best_loss, best_epoch, best_weights"
   ]
  },
  {
   "cell_type": "markdown",
   "metadata": {},
   "source": [
    "### Create the dataset"
   ]
  },
  {
   "cell_type": "code",
   "execution_count": 107,
   "metadata": {},
   "outputs": [],
   "source": [
    "mask_group_0 = X_train[sensitive_feature] == 0\n",
    "mask_group_1 = np.logical_not(mask_group_0)"
   ]
  },
  {
   "cell_type": "code",
   "execution_count": 108,
   "metadata": {},
   "outputs": [],
   "source": [
    "x_train_g0 = X_train_scaled[features].loc[mask_group_0.values]\n",
    "y_train_g0 = y_train[[target_column]].loc[mask_group_0.values]\n",
    "train_x_tensor_g0 = torch.tensor(x_train_g0.values, dtype=torch.float)\n",
    "train_y_tensor_g0 = torch.tensor(y_train_g0[[target_column]].values, dtype=torch.float)\n",
    "train_dataset_g0 = torch.utils.data.TensorDataset(train_x_tensor_g0, train_y_tensor_g0)\n",
    "train_dataloader_g0 = torch.utils.data.DataLoader(train_dataset_g0, batch_size=32,shuffle=True)\n",
    "\n",
    "x_train_g1 = X_train_scaled[features].loc[mask_group_1.values]\n",
    "y_train_g1 = y_train[[target_column]].loc[mask_group_1.values]\n",
    "train_x_tensor_g1 = torch.tensor(x_train_g1.values, dtype=torch.float)\n",
    "train_y_tensor_g1 = torch.tensor(y_train_g1[[target_column]].values, dtype=torch.float)\n",
    "train_dataset_g1 = torch.utils.data.TensorDataset(train_x_tensor_g1, train_y_tensor_g1)\n",
    "train_dataloader_g1 = torch.utils.data.DataLoader(train_dataset_g1, batch_size=32,shuffle=True)"
   ]
  },
  {
   "cell_type": "code",
   "execution_count": 109,
   "metadata": {},
   "outputs": [],
   "source": [
    "mask_group_0 = X_val[sensitive_feature] == 0\n",
    "mask_group_1 = np.logical_not(mask_group_0)\n",
    "\n",
    "x_val_g0 = X_val_scaled[features].loc[mask_group_0.values]\n",
    "y_val_g0 = y_val[[target_column]].loc[mask_group_0.values]\n",
    "val_x_tensor_g0 = torch.tensor(x_val_g0.values, dtype=torch.float)\n",
    "val_y_tensor_g0 = torch.tensor(y_val_g0[[target_column]].values, dtype=torch.float)\n",
    "val_dataset_g0 = torch.utils.data.TensorDataset(val_x_tensor_g0, val_y_tensor_g0)\n",
    "\n",
    "x_val_g1 = X_val_scaled[features].loc[mask_group_1.values]\n",
    "y_val_g1 = y_val[[target_column]].loc[mask_group_1.values]\n",
    "val_x_tensor_g1 = torch.tensor(x_val_g1.values, dtype=torch.float)\n",
    "val_y_tensor_g1 = torch.tensor(y_val_g1[[target_column]].values, dtype=torch.float)\n",
    "val_dataset_g1 = torch.utils.data.TensorDataset(val_x_tensor_g1, val_y_tensor_g1)\n",
    "\n",
    "val_dataset = [val_dataset_g0,val_dataset_g1]"
   ]
  },
  {
   "cell_type": "code",
   "execution_count": 110,
   "metadata": {},
   "outputs": [
    {
     "name": "stdout",
     "output_type": "stream",
     "text": [
      "Epoch 0/2000:  loss:0.643, accuracy-:0.784, val_loss:0.624, val_accuracy->0.756\n",
      "Epoch 10/2000:  loss:0.523, accuracy-:0.791, val_loss:0.520, val_accuracy->0.756\n",
      "Epoch 20/2000:  loss:0.512, accuracy-:0.787, val_loss:0.503, val_accuracy->0.756\n",
      "Epoch 30/2000:  loss:0.490, accuracy-:0.797, val_loss:0.491, val_accuracy->0.756\n",
      "Epoch 40/2000:  loss:0.502, accuracy-:0.783, val_loss:0.480, val_accuracy->0.756\n",
      "Epoch 50/2000:  loss:0.489, accuracy-:0.792, val_loss:0.467, val_accuracy->0.756\n",
      "Epoch 60/2000:  loss:0.470, accuracy-:0.802, val_loss:0.455, val_accuracy->0.757\n",
      "Epoch 70/2000:  loss:0.480, accuracy-:0.793, val_loss:0.438, val_accuracy->0.759\n",
      "Epoch 80/2000:  loss:0.479, accuracy-:0.795, val_loss:0.431, val_accuracy->0.760\n",
      "Epoch 90/2000:  loss:0.475, accuracy-:0.796, val_loss:0.434, val_accuracy->0.765\n",
      "Epoch 100/2000:  loss:0.460, accuracy-:0.808, val_loss:0.437, val_accuracy->0.767\n",
      "Epoch 110/2000:  loss:0.476, accuracy-:0.801, val_loss:0.415, val_accuracy->0.767\n",
      "Epoch 120/2000:  loss:0.478, accuracy-:0.801, val_loss:0.423, val_accuracy->0.770\n",
      "Epoch 130/2000:  loss:0.479, accuracy-:0.803, val_loss:0.424, val_accuracy->0.772\n",
      "Epoch 140/2000:  loss:0.460, accuracy-:0.811, val_loss:0.413, val_accuracy->0.770\n",
      "Epoch 150/2000:  loss:0.443, accuracy-:0.817, val_loss:0.413, val_accuracy->0.775\n",
      "Epoch 160/2000:  loss:0.455, accuracy-:0.811, val_loss:0.405, val_accuracy->0.776\n",
      "Epoch 170/2000:  loss:0.478, accuracy-:0.796, val_loss:0.392, val_accuracy->0.780\n",
      "Epoch 180/2000:  loss:0.461, accuracy-:0.813, val_loss:0.399, val_accuracy->0.780\n",
      "Epoch 190/2000:  loss:0.453, accuracy-:0.823, val_loss:0.404, val_accuracy->0.779\n",
      "Epoch 200/2000:  loss:0.454, accuracy-:0.819, val_loss:0.412, val_accuracy->0.778\n",
      "Epoch 210/2000:  loss:0.466, accuracy-:0.810, val_loss:0.389, val_accuracy->0.784\n",
      "Epoch 220/2000:  loss:0.453, accuracy-:0.817, val_loss:0.393, val_accuracy->0.782\n",
      "Epoch 230/2000:  loss:0.469, accuracy-:0.814, val_loss:0.386, val_accuracy->0.783\n",
      "Epoch 240/2000:  loss:0.452, accuracy-:0.813, val_loss:0.401, val_accuracy->0.782\n",
      "Epoch 250/2000:  loss:0.459, accuracy-:0.806, val_loss:0.399, val_accuracy->0.783\n",
      "Epoch 260/2000:  loss:0.461, accuracy-:0.813, val_loss:0.378, val_accuracy->0.781\n",
      "Epoch 270/2000:  loss:0.455, accuracy-:0.814, val_loss:0.386, val_accuracy->0.781\n",
      "Epoch 280/2000:  loss:0.450, accuracy-:0.818, val_loss:0.395, val_accuracy->0.782\n",
      "Epoch 290/2000:  loss:0.467, accuracy-:0.808, val_loss:0.392, val_accuracy->0.782\n",
      "Epoch 300/2000:  loss:0.449, accuracy-:0.820, val_loss:0.394, val_accuracy->0.781\n",
      "Epoch 310/2000:  loss:0.440, accuracy-:0.821, val_loss:0.400, val_accuracy->0.782\n",
      "Epoch 320/2000:  loss:0.460, accuracy-:0.813, val_loss:0.380, val_accuracy->0.782\n",
      "Epoch 330/2000:  loss:0.452, accuracy-:0.820, val_loss:0.394, val_accuracy->0.782\n",
      "Epoch 340/2000:  loss:0.442, accuracy-:0.824, val_loss:0.383, val_accuracy->0.782\n",
      "Epoch 350/2000:  loss:0.456, accuracy-:0.817, val_loss:0.397, val_accuracy->0.781\n",
      "Epoch 360/2000:  loss:0.464, accuracy-:0.814, val_loss:0.392, val_accuracy->0.781\n"
     ]
    },
    {
     "data": {
      "text/plain": [
       "array(0.37091818, dtype=float32)"
      ]
     },
     "execution_count": 110,
     "metadata": {},
     "output_type": "execute_result"
    }
   ],
   "source": [
    "model = NeuralNetwork(num_input_features=12)\n",
    "\n",
    "lr = 0.005\n",
    "optimizer = torch.optim.SGD(model.parameters(), lr=lr, weight_decay=0.00)\n",
    "loss_fn = torch.nn.BCELoss() # binary cross entropy\n",
    "\n",
    "results_training = train_loop(train_dataloaders = (train_dataloader_g0, train_dataloader_g1),\n",
    "                     val_tensor_dataset= val_dataset,\n",
    "                     patient = 50,\n",
    "                     epochs=2000,\n",
    "                     model=model,\n",
    "                     optimizer=optimizer,\n",
    "                     loss_fn=loss_fn,\n",
    "                     lamba = 2.5,\n",
    "                     steps_per_epoch=100)\n",
    "model, val_history, train_history, best_loss, best_epoch, best_weights = results_training    \n",
    "best_loss"
   ]
  },
  {
   "cell_type": "code",
   "execution_count": 111,
   "metadata": {},
   "outputs": [],
   "source": [
    "predictions = model(test_tensor_dataset.tensors[0]).detach().numpy()\n",
    "predictions = (predictions>0.5)*1"
   ]
  },
  {
   "cell_type": "code",
   "execution_count": 112,
   "metadata": {},
   "outputs": [],
   "source": [
    "sensitive_atribute = test_data[sensitive_feature]\n",
    "metrics = compute_metric(y_pred = predictions,\n",
    "                         data = test_data,\n",
    "                         sensitive_feature = sensitive_atribute)\n",
    "results2 = pd.DataFrame(metrics,\n",
    "                       index = [\"Reg DP model\"]).T"
   ]
  },
  {
   "cell_type": "code",
   "execution_count": 113,
   "metadata": {},
   "outputs": [
    {
     "data": {
      "text/html": [
       "<div>\n",
       "<style scoped>\n",
       "    .dataframe tbody tr th:only-of-type {\n",
       "        vertical-align: middle;\n",
       "    }\n",
       "\n",
       "    .dataframe tbody tr th {\n",
       "        vertical-align: top;\n",
       "    }\n",
       "\n",
       "    .dataframe thead th {\n",
       "        text-align: right;\n",
       "    }\n",
       "</style>\n",
       "<table border=\"1\" class=\"dataframe\">\n",
       "  <thead>\n",
       "    <tr style=\"text-align: right;\">\n",
       "      <th></th>\n",
       "      <th>simple model</th>\n",
       "      <th>Reg DP model</th>\n",
       "    </tr>\n",
       "  </thead>\n",
       "  <tbody>\n",
       "    <tr>\n",
       "      <th>accuracy</th>\n",
       "      <td>0.847578</td>\n",
       "      <td>0.788666</td>\n",
       "    </tr>\n",
       "    <tr>\n",
       "      <th>demographic_metric</th>\n",
       "      <td>0.167036</td>\n",
       "      <td>0.044799</td>\n",
       "    </tr>\n",
       "    <tr>\n",
       "      <th>equalized_opportunities</th>\n",
       "      <td>0.106897</td>\n",
       "      <td>0.376331</td>\n",
       "    </tr>\n",
       "    <tr>\n",
       "      <th>equalized_odds</th>\n",
       "      <td>0.179301</td>\n",
       "      <td>0.393115</td>\n",
       "    </tr>\n",
       "  </tbody>\n",
       "</table>\n",
       "</div>"
      ],
      "text/plain": [
       "                         simple model  Reg DP model\n",
       "accuracy                     0.847578      0.788666\n",
       "demographic_metric           0.167036      0.044799\n",
       "equalized_opportunities      0.106897      0.376331\n",
       "equalized_odds               0.179301      0.393115"
      ]
     },
     "execution_count": 113,
     "metadata": {},
     "output_type": "execute_result"
    }
   ],
   "source": [
    "all_results = pd.concat([results, results2],axis=1)\n",
    "all_results"
   ]
  },
  {
   "cell_type": "code",
   "execution_count": 114,
   "metadata": {},
   "outputs": [
    {
     "data": {
      "text/plain": [
       "<AxesSubplot: >"
      ]
     },
     "execution_count": 114,
     "metadata": {},
     "output_type": "execute_result"
    },
    {
     "data": {
      "image/png": "[encoded data removed]",
      "text/plain": [
       "<Figure size 640x480 with 1 Axes>"
      ]
     },
     "metadata": {},
     "output_type": "display_data"
    }
   ],
   "source": [
    "all_results.plot(kind=\"bar\")"
   ]
  },
  {
   "cell_type": "markdown",
   "metadata": {},
   "source": [
    "## F3. Equalized Opportunities\n",
    "\n",
    "Similarly, we can regularize the model to preserve Equalized Opportunities. Equalized Opportunities requires that the model has equal true positive rates (TPR) across different sensitive groups, meaning that the probability of a correct positive prediction (i.e., $ \\hat{y} = 1 $) given the true label $ y = 1 $ should be the same for all sensitive groups.\n",
    "\n",
    "The Equalized Opportunities difference (EO) can be defined as:\n",
    "\n",
    "$$ \\text{EO} = \\left| \\mathbb{E}_{x \\sim P(x | y = 1, s = 0)}[p(\\hat{y} = 1 | x)] - \\mathbb{E}_{x \\sim P(x | y = 1, s = 1)}[p(\\hat{y} = 1 | x)] \\right| $$\n",
    "\n",
    "Where:\n",
    "- $ p(\\hat{y} = 1 | x) $ is the predicted probability of $ y = 1 $ given input $ x $,\n",
    "- $ y = 1 $ denotes the positive class,\n",
    "- $ s $ denotes the sensitive attribute (e.g., gender, race),\n",
    "- The expectations are taken over the input data conditioned on $ y = 1 $ and the sensitive attribute $ s $.\n",
    "\n",
    "By regularizing the model according to this criterion, we ensure that the model maintains equal true positive rates across the sensitive groups, thus promoting fairness in the model's predictions.\n"
   ]
  },
  {
   "cell_type": "code",
   "execution_count": 116,
   "metadata": {},
   "outputs": [],
   "source": [
    "mask_g0 = X_train[sensitive_feature] == 0\n",
    "mask_g1 = np.logical_not(mask_g0)\n",
    "\n",
    "mask_y0 = y_train[target_column] == 0\n",
    "mask_y1 = np.logical_not(mask_y0)"
   ]
  },
  {
   "cell_type": "code",
   "execution_count": 117,
   "metadata": {},
   "outputs": [],
   "source": [
    "mask_g0y0 = np.logical_and(mask_g0, mask_y0)\n",
    "x_train_g0y0 = X_train_scaled[features].loc[mask_g0y0]\n",
    "y_train_g0y0 = y_train[[target_column]].loc[mask_g0y0]\n",
    "train_x_tensor_g0y0 = torch.tensor(x_train_g0y0.values, dtype=torch.float)\n",
    "train_y_tensor_g0y0 = torch.tensor(y_train_g0y0[[target_column]].values, dtype=torch.float)\n",
    "train_dataset_g0y0 = torch.utils.data.TensorDataset(train_x_tensor_g0y0, train_y_tensor_g0y0)\n",
    "train_dataloader_g0y0 = torch.utils.data.DataLoader(train_dataset_g0y0, batch_size=32,shuffle=True)\n",
    "\n",
    "mask_g0y1 = np.logical_and(mask_g0, mask_y1)\n",
    "x_train_g0y1 = X_train_scaled[features].loc[mask_g0y1]\n",
    "y_train_g0y1 = y_train[[target_column]].loc[mask_g0y1]\n",
    "train_x_tensor_g0y1 = torch.tensor(x_train_g0y1.values, dtype=torch.float)\n",
    "train_y_tensor_g0y1 = torch.tensor(y_train_g0y1[[target_column]].values, dtype=torch.float)\n",
    "train_dataset_g0y1 = torch.utils.data.TensorDataset(train_x_tensor_g0y1, train_y_tensor_g0y1)\n",
    "train_dataloader_g0y1 = torch.utils.data.DataLoader(train_dataset_g0y1, batch_size=32,shuffle=True)\n",
    "\n",
    "mask_g1y0 = np.logical_and(mask_g1, mask_y0)\n",
    "x_train_g1y0 = X_train_scaled[features].loc[mask_g1y0]\n",
    "y_train_g1y0 = y_train[[target_column]].loc[mask_g1y0]\n",
    "train_x_tensor_g1y0 = torch.tensor(x_train_g1y0.values, dtype=torch.float)\n",
    "train_y_tensor_g1y0 = torch.tensor(y_train_g1y0[[target_column]].values, dtype=torch.float)\n",
    "train_dataset_g1y0 = torch.utils.data.TensorDataset(train_x_tensor_g1y0, train_y_tensor_g1y0)\n",
    "train_dataloader_g1y0 = torch.utils.data.DataLoader(train_dataset_g1y0, batch_size=32,shuffle=True)\n",
    "\n",
    "mask_g1y1 = np.logical_and(mask_g1, mask_y1)\n",
    "x_train_g1y1 = X_train_scaled[features].loc[mask_g1y1]\n",
    "y_train_g1y1 = y_train[[target_column]].loc[mask_g1y1]\n",
    "train_x_tensor_g1y1 = torch.tensor(x_train_g1y1.values, dtype=torch.float)\n",
    "train_y_tensor_g1y1 = torch.tensor(y_train_g1y1[[target_column]].values, dtype=torch.float)\n",
    "train_dataset_g1y1 = torch.utils.data.TensorDataset(train_x_tensor_g1y1, train_y_tensor_g1y1)\n",
    "train_dataloader_g1y1 = torch.utils.data.DataLoader(train_dataset_g1y1, batch_size=32,shuffle=True)"
   ]
  },
  {
   "cell_type": "code",
   "execution_count": 118,
   "metadata": {},
   "outputs": [],
   "source": [
    "mask_g0 = X_val[sensitive_feature] == 0\n",
    "mask_g1 = np.logical_not(mask_g0)\n",
    "\n",
    "mask_y0 = y_val[target_column] == 0\n",
    "mask_y1 = np.logical_not(mask_y0)"
   ]
  },
  {
   "cell_type": "code",
   "execution_count": 119,
   "metadata": {},
   "outputs": [],
   "source": [
    "mask_g0y0 = np.logical_and(mask_g0, mask_y0)\n",
    "x_val_g0y0 = X_val_scaled[features].loc[mask_g0y0]\n",
    "y_val_g0y0 = y_val[[target_column]].loc[mask_g0y0]\n",
    "val_x_tensor_g0y0 = torch.tensor(x_val_g0y0.values, dtype=torch.float)\n",
    "val_y_tensor_g0y0 = torch.tensor(y_val_g0y0[[target_column]].values, dtype=torch.float)\n",
    "val_dataset_g0y0 = torch.utils.data.TensorDataset(val_x_tensor_g0y0, val_y_tensor_g0y0)\n",
    "\n",
    "mask_g0y1 = np.logical_and(mask_g0, mask_y1)\n",
    "x_val_g0y1 = X_val_scaled[features].loc[mask_g0y1]\n",
    "y_val_g0y1 = y_val[[target_column]].loc[mask_g0y1]\n",
    "val_x_tensor_g0y1 = torch.tensor(x_val_g0y1.values, dtype=torch.float)\n",
    "val_y_tensor_g0y1 = torch.tensor(y_val_g0y1[[target_column]].values, dtype=torch.float)\n",
    "val_dataset_g0y1 = torch.utils.data.TensorDataset(val_x_tensor_g0y1, val_y_tensor_g0y1)\n",
    "\n",
    "mask_g1y0 = np.logical_and(mask_g1, mask_y0)\n",
    "x_val_g1y0 = X_val_scaled[features].loc[mask_g1y0]\n",
    "y_val_g1y0 = y_val[[target_column]].loc[mask_g1y0]\n",
    "val_x_tensor_g1y0 = torch.tensor(x_val_g1y0.values, dtype=torch.float)\n",
    "val_y_tensor_g1y0 = torch.tensor(y_val_g1y0[[target_column]].values, dtype=torch.float)\n",
    "val_dataset_g1y0 = torch.utils.data.TensorDataset(val_x_tensor_g1y0, val_y_tensor_g1y0)\n",
    "\n",
    "mask_g1y1 = np.logical_and(mask_g1, mask_y1)\n",
    "x_val_g1y1 = X_val_scaled[features].loc[mask_g1y1]\n",
    "y_val_g1y1 = y_val[[target_column]].loc[mask_g1y1]\n",
    "val_x_tensor_g1y1 = torch.tensor(x_val_g1y1.values, dtype=torch.float)\n",
    "val_y_tensor_g1y1 = torch.tensor(y_val_g1y1[[target_column]].values, dtype=torch.float)\n",
    "val_dataset_g1y1 = torch.utils.data.TensorDataset(val_x_tensor_g1y1, val_y_tensor_g1y1)\n",
    "val_dataset = [val_dataset_g0y0,val_dataset_g0y1,val_dataset_g1y0,val_dataset_g1y1]"
   ]
  },
  {
   "cell_type": "code",
   "execution_count": 120,
   "metadata": {},
   "outputs": [],
   "source": [
    "def training_step(model, input_data, optimizer, loss_fn, lamba):\n",
    "    # reset gradients of the optimizer\n",
    "    optimizer.zero_grad()\n",
    "    \n",
    "    # unfold data\n",
    "    data_g0y0, data_g0y1, data_g1y0, data_g1y1 = input_data\n",
    "    x_batch_g0y0, y_batch_g0y0 = data_g0y0\n",
    "    x_batch_g0y1, y_batch_g0y1 = data_g0y1\n",
    "    x_batch_g1y0, y_batch_g1y0 = data_g1y0\n",
    "    x_batch_g1y1, y_batch_g1y1 = data_g1y1\n",
    "    \n",
    "    # get predictions\n",
    "    y_pred_propa_g0y0 = model.forward(x_batch_g0y0)\n",
    "    y_pred_propa_g0y1 = model.forward(x_batch_g0y1)\n",
    "    y_pred_propa_g1y0 = model.forward(x_batch_g1y0)\n",
    "    y_pred_propa_g1y1 = model.forward(x_batch_g1y1)\n",
    "\n",
    "    # calculate loss\n",
    "    loss_g0y0 = loss_fn(y_pred_propa_g0y0, y_batch_g0y0)\n",
    "    loss_g0y1 = loss_fn(y_pred_propa_g0y1, y_batch_g0y1)\n",
    "    loss_g1y0 = loss_fn(y_pred_propa_g1y0, y_batch_g1y0)\n",
    "    loss_g1y1 = loss_fn(y_pred_propa_g1y1, y_batch_g1y1)\n",
    "    total_loss = (loss_g0y0 + loss_g0y1 + loss_g1y0 + loss_g1y1)/4\n",
    "    \n",
    "    # regularization\n",
    "    regularization = torch.abs(torch.mean(y_pred_propa_g0y1) - torch.mean(y_pred_propa_g1y1))\n",
    "    \n",
    "    # total loss\n",
    "    loss = total_loss + lamba * regularization\n",
    "    \n",
    "    # compute gradients \n",
    "    loss.backward()\n",
    "    \n",
    "    # optimise network\n",
    "    optimizer.step()\n",
    "    \n",
    "    # compute metrics for monitoring\n",
    "    with torch.no_grad(): \n",
    "        y_pred_propa = torch.concat([y_pred_propa_g0y0, y_pred_propa_g0y1,y_pred_propa_g1y0,y_pred_propa_g1y1])\n",
    "        y_true = torch.concat([y_batch_g0y0, y_batch_g0y1, y_batch_g1y0, y_batch_g1y1])\n",
    "        y_pred = (y_pred_propa>0.5) * 1\n",
    "        train_acc = torch.sum(y_pred == y_true) / y_pred.shape[0]\n",
    "\n",
    "    return loss.data.numpy(), train_acc"
   ]
  },
  {
   "cell_type": "code",
   "execution_count": 121,
   "metadata": {},
   "outputs": [],
   "source": [
    "def evaluation_step(model, input_data, loss_fn, lamba):\n",
    "    # when we use torch.no_grad pytorch didnt store information\n",
    "    # that is required to calculate gradients so is fasterr \n",
    "    with torch.no_grad(): \n",
    "        data_g0y0, data_g0y1, data_g1y0, data_g1y1 = input_data\n",
    "        x_batch_g0y0, y_batch_g0y0 = data_g0y0.tensors\n",
    "        x_batch_g0y1, y_batch_g0y1 = data_g0y1.tensors\n",
    "        x_batch_g1y0, y_batch_g1y0 = data_g1y0.tensors\n",
    "        x_batch_g1y1, y_batch_g1y1 = data_g1y1.tensors\n",
    "\n",
    "        # get predictions\n",
    "        y_pred_propa_g0y0 = model(x_batch_g0y0)\n",
    "        y_pred_propa_g0y1 = model(x_batch_g0y1)\n",
    "        y_pred_propa_g1y0 = model(x_batch_g1y0)\n",
    "        y_pred_propa_g1y1 = model(x_batch_g1y1)\n",
    "\n",
    "        # calculate loss\n",
    "        loss_g0y0 = loss_fn(y_pred_propa_g0y0, y_batch_g0y0)\n",
    "        loss_g0y1 = loss_fn(y_pred_propa_g0y1, y_batch_g0y1)\n",
    "        loss_g1y0 = loss_fn(y_pred_propa_g1y0, y_batch_g1y0)\n",
    "        loss_g1y1 = loss_fn(y_pred_propa_g1y1, y_batch_g1y1)\n",
    "        total_loss = (loss_g0y0 + loss_g0y1 + loss_g1y0 + loss_g1y1)/4\n",
    "\n",
    "        # regularization\n",
    "        regularization = torch.abs(torch.mean(y_pred_propa_g0y1) - torch.mean(y_pred_propa_g1y1))\n",
    "        \n",
    "        loss = total_loss + lamba* regularization\n",
    "\n",
    "        # compute metrics\n",
    "        y_pred_propa = torch.concat([y_pred_propa_g0y0, y_pred_propa_g0y1,y_pred_propa_g1y0,y_pred_propa_g1y1])\n",
    "        y_true = torch.concat([y_batch_g0y0, y_batch_g0y1, y_batch_g1y0, y_batch_g1y1])\n",
    "        y_pred = (y_pred_propa>0.5) * 1\n",
    "        acc = torch.sum(y_pred == y_true) / y_pred.shape[0]\n",
    "\n",
    "        \n",
    "    return loss.data.numpy(), acc.data.numpy()"
   ]
  },
  {
   "cell_type": "code",
   "execution_count": 122,
   "metadata": {},
   "outputs": [
    {
     "name": "stdout",
     "output_type": "stream",
     "text": [
      "Epoch 0/2000:  loss:0.708, accuracy-:0.412, val_loss:0.701, val_accuracy->0.420\n",
      "Epoch 10/2000:  loss:0.692, accuracy-:0.636, val_loss:0.690, val_accuracy->0.584\n",
      "Epoch 20/2000:  loss:0.684, accuracy-:0.717, val_loss:0.682, val_accuracy->0.711\n",
      "Epoch 30/2000:  loss:0.668, accuracy-:0.731, val_loss:0.655, val_accuracy->0.728\n",
      "Epoch 40/2000:  loss:0.639, accuracy-:0.746, val_loss:0.621, val_accuracy->0.719\n",
      "Epoch 50/2000:  loss:0.598, accuracy-:0.750, val_loss:0.559, val_accuracy->0.718\n",
      "Epoch 60/2000:  loss:0.567, accuracy-:0.754, val_loss:0.507, val_accuracy->0.716\n",
      "Epoch 70/2000:  loss:0.557, accuracy-:0.760, val_loss:0.522, val_accuracy->0.712\n",
      "Epoch 80/2000:  loss:0.557, accuracy-:0.765, val_loss:0.496, val_accuracy->0.702\n",
      "Epoch 90/2000:  loss:0.543, accuracy-:0.765, val_loss:0.523, val_accuracy->0.698\n",
      "Epoch 100/2000:  loss:0.538, accuracy-:0.777, val_loss:0.522, val_accuracy->0.710\n",
      "Epoch 110/2000:  loss:0.534, accuracy-:0.785, val_loss:0.509, val_accuracy->0.721\n",
      "Epoch 120/2000:  loss:0.524, accuracy-:0.800, val_loss:0.492, val_accuracy->0.736\n",
      "Epoch 130/2000:  loss:0.535, accuracy-:0.796, val_loss:0.481, val_accuracy->0.748\n",
      "Epoch 140/2000:  loss:0.520, accuracy-:0.804, val_loss:0.480, val_accuracy->0.755\n",
      "Epoch 150/2000:  loss:0.526, accuracy-:0.806, val_loss:0.468, val_accuracy->0.749\n",
      "Epoch 160/2000:  loss:0.515, accuracy-:0.806, val_loss:0.413, val_accuracy->0.754\n",
      "Epoch 170/2000:  loss:0.512, accuracy-:0.812, val_loss:0.480, val_accuracy->0.758\n",
      "Epoch 180/2000:  loss:0.515, accuracy-:0.808, val_loss:0.474, val_accuracy->0.760\n",
      "Epoch 190/2000:  loss:0.501, accuracy-:0.815, val_loss:0.438, val_accuracy->0.753\n",
      "Epoch 200/2000:  loss:0.512, accuracy-:0.806, val_loss:0.481, val_accuracy->0.761\n",
      "Epoch 210/2000:  loss:0.514, accuracy-:0.812, val_loss:0.446, val_accuracy->0.753\n",
      "Epoch 220/2000:  loss:0.511, accuracy-:0.808, val_loss:0.441, val_accuracy->0.756\n",
      "Epoch 230/2000:  loss:0.508, accuracy-:0.810, val_loss:0.453, val_accuracy->0.757\n",
      "Epoch 240/2000:  loss:0.504, accuracy-:0.812, val_loss:0.497, val_accuracy->0.756\n",
      "Epoch 250/2000:  loss:0.507, accuracy-:0.815, val_loss:0.455, val_accuracy->0.757\n",
      "Epoch 260/2000:  loss:0.509, accuracy-:0.808, val_loss:0.452, val_accuracy->0.761\n"
     ]
    },
    {
     "data": {
      "text/plain": [
       "array(0.4071798, dtype=float32)"
      ]
     },
     "execution_count": 122,
     "metadata": {},
     "output_type": "execute_result"
    }
   ],
   "source": [
    "model = NeuralNetwork(num_input_features=12)\n",
    "\n",
    "lr = 0.005\n",
    "optimizer = torch.optim.SGD(model.parameters(), lr=lr, weight_decay=0.00)\n",
    "loss_fn = torch.nn.BCELoss() # binary cross entropy\n",
    "\n",
    "results_training = train_loop(train_dataloaders = (train_dataloader_g0y0, train_dataloader_g0y1, train_dataloader_g1y0, train_dataloader_g1y1),\n",
    "                     val_tensor_dataset= val_dataset,\n",
    "                     patient = 50,\n",
    "                     epochs=2000,\n",
    "                     model=model,\n",
    "                     optimizer=optimizer,\n",
    "                     loss_fn=loss_fn,\n",
    "                     lamba = 2.5,\n",
    "                     steps_per_epoch=100)\n",
    "model, val_history, train_history, best_loss, best_epoch, best_weights = results_training    \n",
    "best_loss"
   ]
  },
  {
   "cell_type": "code",
   "execution_count": 123,
   "metadata": {},
   "outputs": [],
   "source": [
    "predictions = model(test_tensor_dataset.tensors[0]).detach().numpy()\n",
    "predictions = (predictions>0.5)*1"
   ]
  },
  {
   "cell_type": "code",
   "execution_count": 124,
   "metadata": {},
   "outputs": [],
   "source": [
    "sensitive_atribute = test_data[sensitive_feature]\n",
    "metrics = compute_metric(y_pred = predictions,\n",
    "                         data = test_data,\n",
    "                         sensitive_feature = sensitive_atribute)\n",
    "results3 = pd.DataFrame(metrics,\n",
    "                       index = [\"Reg EO model\"]).T"
   ]
  },
  {
   "cell_type": "code",
   "execution_count": 125,
   "metadata": {},
   "outputs": [
    {
     "data": {
      "text/html": [
       "<div>\n",
       "<style scoped>\n",
       "    .dataframe tbody tr th:only-of-type {\n",
       "        vertical-align: middle;\n",
       "    }\n",
       "\n",
       "    .dataframe tbody tr th {\n",
       "        vertical-align: top;\n",
       "    }\n",
       "\n",
       "    .dataframe thead th {\n",
       "        text-align: right;\n",
       "    }\n",
       "</style>\n",
       "<table border=\"1\" class=\"dataframe\">\n",
       "  <thead>\n",
       "    <tr style=\"text-align: right;\">\n",
       "      <th></th>\n",
       "      <th>simple model</th>\n",
       "      <th>Reg DP model</th>\n",
       "      <th>Reg EO model</th>\n",
       "    </tr>\n",
       "  </thead>\n",
       "  <tbody>\n",
       "    <tr>\n",
       "      <th>accuracy</th>\n",
       "      <td>0.847578</td>\n",
       "      <td>0.788666</td>\n",
       "      <td>0.751433</td>\n",
       "    </tr>\n",
       "    <tr>\n",
       "      <th>demographic_metric</th>\n",
       "      <td>0.167036</td>\n",
       "      <td>0.044799</td>\n",
       "      <td>0.287562</td>\n",
       "    </tr>\n",
       "    <tr>\n",
       "      <th>equalized_opportunities</th>\n",
       "      <td>0.106897</td>\n",
       "      <td>0.376331</td>\n",
       "      <td>0.076200</td>\n",
       "    </tr>\n",
       "    <tr>\n",
       "      <th>equalized_odds</th>\n",
       "      <td>0.179301</td>\n",
       "      <td>0.393115</td>\n",
       "      <td>0.275474</td>\n",
       "    </tr>\n",
       "  </tbody>\n",
       "</table>\n",
       "</div>"
      ],
      "text/plain": [
       "                         simple model  Reg DP model  Reg EO model\n",
       "accuracy                     0.847578      0.788666      0.751433\n",
       "demographic_metric           0.167036      0.044799      0.287562\n",
       "equalized_opportunities      0.106897      0.376331      0.076200\n",
       "equalized_odds               0.179301      0.393115      0.275474"
      ]
     },
     "execution_count": 125,
     "metadata": {},
     "output_type": "execute_result"
    }
   ],
   "source": [
    "all_results = pd.concat([all_results, results3],axis=1)\n",
    "all_results"
   ]
  },
  {
   "cell_type": "code",
   "execution_count": 126,
   "metadata": {},
   "outputs": [
    {
     "data": {
      "text/plain": [
       "<AxesSubplot: >"
      ]
     },
     "execution_count": 126,
     "metadata": {},
     "output_type": "execute_result"
    },
    {
     "data": {
      "image/png": "[encoded data removed]",
      "text/plain": [
       "<Figure size 640x480 with 1 Axes>"
      ]
     },
     "metadata": {},
     "output_type": "display_data"
    }
   ],
   "source": [
    "all_results.plot(kind=\"bar\")"
   ]
  },
  {
   "cell_type": "markdown",
   "metadata": {},
   "source": [
    "## F3. Equalized Odds\n",
    "\n",
    "Similarly, we can regularize the model to preserve Equalized Odds. Equalized Odds requires that the model has equal true positive rates (TPR) and equal false positive rates (FPR) across different sensitive groups, meaning that the probabilities of both a correct positive prediction and an incorrect positive prediction (i.e., $ \\hat{y} = 1 $) given the true label $ y = 1 $ or $ y = 0 $ should be the same for all sensitive groups.\n",
    "\n",
    "Formally, Equalized Odds can be expressed as:\n",
    "\n",
    "$$ \\mathbb{E}_{x \\sim P(x | y = 1, s = 0)}[p(\\hat{y} = 1 | x)] = \\mathbb{E}_{x \\sim P(x | y = 1, s = 1)}[p(\\hat{y} = 1 | x)] $$\n",
    "\n",
    "$$ \\mathbb{E}_{x \\sim P(x | y = 0, s = 0)}[p(\\hat{y} = 1 | x)] = \\mathbb{E}_{x \\sim P(x | y = 0, s = 1)}[p(\\hat{y} = 1 | x)] $$\n",
    "\n",
    "The Equalized Odds difference (EO) can be defined as:\n",
    "\n",
    "$$ R1 = \\left| \\mathbb{E}_{x \\sim P(x | y = 1, s = 0)}[p(\\hat{y} = 1 | x)] - \\mathbb{E}_{x \\sim P(x | y = 1, s = 1)}[p(\\hat{y} = 1 | x)] \\right| $$\n",
    "\n",
    "\n",
    "$$ R1 =  \\left| \\mathbb{E}_{x \\sim P(x | y = 0, s = 0)}[p(\\hat{y} = 1 | x)] - \\mathbb{E}_{x \\sim P(x | y = 0, s = 1)}[p(\\hat{y} = 1 | x)] \\right| $$\n",
    "\n",
    "$$\n",
    "\\text{EO} =  R1 + R2\n",
    "$$\n",
    "\n",
    "Where:\n",
    "- $ p(\\hat{y} = 1 | x) $ is the predicted probability of $ y = 1 $ given input $ x $,\n",
    "- $ y = 1 $ and $ y = 0 $ denote the positive and negative classes, respectively,\n",
    "- $ s $ denotes the sensitive attribute (e.g., gender, race),\n",
    "- The expectations are taken over the input data conditioned on the true label $ y $ and the sensitive attribute $ s $.\n",
    "\n",
    "By regularizing the model according to this criterion, we ensure that the model maintains equal true positive and false positive rates across the sensitive groups, thus promoting fairness in the model's predictions.\n"
   ]
  },
  {
   "cell_type": "code",
   "execution_count": 127,
   "metadata": {},
   "outputs": [],
   "source": [
    "def training_step(model, input_data, optimizer, loss_fn, lamba):\n",
    "    # reset gradients of the optimizer\n",
    "    optimizer.zero_grad()\n",
    "    \n",
    "    # unfold data\n",
    "    data_g0y0, data_g0y1, data_g1y0, data_g1y1 = input_data\n",
    "    x_batch_g0y0, y_batch_g0y0 = data_g0y0\n",
    "    x_batch_g0y1, y_batch_g0y1 = data_g0y1\n",
    "    x_batch_g1y0, y_batch_g1y0 = data_g1y0\n",
    "    x_batch_g1y1, y_batch_g1y1 = data_g1y1\n",
    "    \n",
    "    # get predictions\n",
    "   \n",
    "    # calculate loss\n",
    "    loss_g0y0 = \n",
    "    loss_g0y1 = \n",
    "    loss_g1y0 = \n",
    "    loss_g1y1 = \n",
    "    total_loss = (loss_g0y0 + loss_g0y1 + loss_g1y0 + loss_g1y1)/4\n",
    "    \n",
    "    # regularization\n",
    "    regularization1 =  # R1 True posive rates\n",
    "    regularization2 =  # R2 False posive rates\n",
    "    regularization = (regularization1 + regularization2)/2\n",
    "    \n",
    "    # total loss\n",
    "    loss = \n",
    "    \n",
    "    # compute gradients \n",
    "    loss.backward()\n",
    "    \n",
    "    # optimise network\n",
    "    optimizer.step()\n",
    "    \n",
    "    # compute metrics for monitoring\n",
    "    with torch.no_grad(): \n",
    "        ### accuracy\n",
    "        train_acc = \n",
    "\n",
    "    return loss.data.numpy(), train_acc"
   ]
  },
  {
   "cell_type": "code",
   "execution_count": 128,
   "metadata": {},
   "outputs": [],
   "source": [
    "def evaluation_step(model, input_data, loss_fn, lamba):\n",
    "    # when we use torch.no_grad pytorch didnt store information\n",
    "    # that is required to calculate gradients so is fasterr \n",
    "    with torch.no_grad(): \n",
    "        data_g0y0, data_g0y1, data_g1y0, data_g1y1 = input_data\n",
    "        x_batch_g0y0, y_batch_g0y0 = data_g0y0.tensors\n",
    "        x_batch_g0y1, y_batch_g0y1 = data_g0y1.tensors\n",
    "        x_batch_g1y0, y_batch_g1y0 = data_g1y0.tensors\n",
    "        x_batch_g1y1, y_batch_g1y1 = data_g1y1.tensors\n",
    "\n",
    "        # get predictions\n",
    "        y_pred_propa_g0y0 =\n",
    "        y_pred_propa_g0y1 = \n",
    "        y_pred_propa_g1y0 = \n",
    "        y_pred_propa_g1y1 = \n",
    "\n",
    "        # calculate loss\n",
    "        loss_g0y0 = \n",
    "        loss_g0y1 = \n",
    "        loss_g1y0 =\n",
    "        loss_g1y1 = \n",
    "        total_loss = (loss_g0y0 + loss_g0y1 + loss_g1y0 + loss_g1y1)/4\n",
    "\n",
    "        # regularization\n",
    "        regularization1 = \n",
    "        regularization2 = \n",
    "        regularization = (regularization1 + regularization2)/2\n",
    "        \n",
    "        # total loss\n",
    "        loss = total_loss + lamba * regularization\n",
    "\n",
    "        # compute metrics\n",
    "        acc = \n",
    "\n",
    "        \n",
    "    return loss.data.numpy(), acc.data.numpy()"
   ]
  },
  {
   "cell_type": "code",
   "execution_count": 129,
   "metadata": {},
   "outputs": [
    {
     "name": "stdout",
     "output_type": "stream",
     "text": [
      "Epoch 0/2000:  loss:0.706, accuracy-:0.478, val_loss:0.695, val_accuracy->0.398\n",
      "Epoch 10/2000:  loss:0.685, accuracy-:0.669, val_loss:0.677, val_accuracy->0.591\n",
      "Epoch 20/2000:  loss:0.669, accuracy-:0.711, val_loss:0.655, val_accuracy->0.675\n",
      "Epoch 30/2000:  loss:0.648, accuracy-:0.736, val_loss:0.618, val_accuracy->0.711\n",
      "Epoch 40/2000:  loss:0.625, accuracy-:0.750, val_loss:0.587, val_accuracy->0.738\n",
      "Epoch 50/2000:  loss:0.615, accuracy-:0.758, val_loss:0.562, val_accuracy->0.758\n",
      "Epoch 60/2000:  loss:0.600, accuracy-:0.768, val_loss:0.545, val_accuracy->0.770\n",
      "Epoch 70/2000:  loss:0.584, accuracy-:0.780, val_loss:0.527, val_accuracy->0.779\n",
      "Epoch 80/2000:  loss:0.583, accuracy-:0.780, val_loss:0.516, val_accuracy->0.784\n",
      "Epoch 90/2000:  loss:0.568, accuracy-:0.793, val_loss:0.520, val_accuracy->0.790\n",
      "Epoch 100/2000:  loss:0.558, accuracy-:0.800, val_loss:0.518, val_accuracy->0.794\n",
      "Epoch 110/2000:  loss:0.552, accuracy-:0.803, val_loss:0.499, val_accuracy->0.799\n",
      "Epoch 120/2000:  loss:0.557, accuracy-:0.803, val_loss:0.507, val_accuracy->0.800\n",
      "Epoch 130/2000:  loss:0.554, accuracy-:0.808, val_loss:0.497, val_accuracy->0.807\n",
      "Epoch 140/2000:  loss:0.544, accuracy-:0.809, val_loss:0.499, val_accuracy->0.805\n",
      "Epoch 150/2000:  loss:0.555, accuracy-:0.803, val_loss:0.495, val_accuracy->0.802\n",
      "Epoch 160/2000:  loss:0.544, accuracy-:0.809, val_loss:0.498, val_accuracy->0.807\n",
      "Epoch 170/2000:  loss:0.537, accuracy-:0.811, val_loss:0.491, val_accuracy->0.806\n",
      "Epoch 180/2000:  loss:0.535, accuracy-:0.813, val_loss:0.494, val_accuracy->0.811\n",
      "Epoch 190/2000:  loss:0.541, accuracy-:0.810, val_loss:0.483, val_accuracy->0.808\n",
      "Epoch 200/2000:  loss:0.544, accuracy-:0.807, val_loss:0.489, val_accuracy->0.809\n",
      "Epoch 210/2000:  loss:0.545, accuracy-:0.815, val_loss:0.470, val_accuracy->0.801\n",
      "Epoch 220/2000:  loss:0.552, accuracy-:0.805, val_loss:0.496, val_accuracy->0.809\n",
      "Epoch 230/2000:  loss:0.553, accuracy-:0.801, val_loss:0.477, val_accuracy->0.811\n",
      "Epoch 240/2000:  loss:0.545, accuracy-:0.806, val_loss:0.473, val_accuracy->0.808\n",
      "Epoch 250/2000:  loss:0.546, accuracy-:0.807, val_loss:0.480, val_accuracy->0.809\n",
      "Epoch 260/2000:  loss:0.541, accuracy-:0.810, val_loss:0.468, val_accuracy->0.805\n",
      "Epoch 270/2000:  loss:0.545, accuracy-:0.811, val_loss:0.482, val_accuracy->0.808\n",
      "Epoch 280/2000:  loss:0.524, accuracy-:0.812, val_loss:0.491, val_accuracy->0.810\n",
      "Epoch 290/2000:  loss:0.543, accuracy-:0.814, val_loss:0.479, val_accuracy->0.807\n"
     ]
    },
    {
     "data": {
      "text/plain": [
       "array(0.46449196, dtype=float32)"
      ]
     },
     "execution_count": 129,
     "metadata": {},
     "output_type": "execute_result"
    }
   ],
   "source": [
    "model = NeuralNetwork(num_input_features=12)\n",
    "\n",
    "lr = 0.005\n",
    "optimizer = torch.optim.SGD(model.parameters(), lr=lr, weight_decay=0.00)\n",
    "loss_fn = torch.nn.BCELoss() # binary cross entropy\n",
    "\n",
    "results_training = train_loop(train_dataloaders = (train_dataloader_g0y0, train_dataloader_g0y1, train_dataloader_g1y0, train_dataloader_g1y1),\n",
    "                     val_tensor_dataset= val_dataset,\n",
    "                     patient = 50,\n",
    "                     epochs=2000,\n",
    "                     model=model,\n",
    "                     optimizer=optimizer,\n",
    "                     loss_fn=loss_fn,\n",
    "                     lamba = 2.50,\n",
    "                     steps_per_epoch=100)\n",
    "model, val_history, train_history, best_loss, best_epoch, best_weights = results_training    \n",
    "best_loss"
   ]
  },
  {
   "cell_type": "code",
   "execution_count": 130,
   "metadata": {},
   "outputs": [],
   "source": [
    "predictions = model(test_tensor_dataset.tensors[0]).detach().numpy()\n",
    "predictions = (predictions>0.5)*1"
   ]
  },
  {
   "cell_type": "code",
   "execution_count": 131,
   "metadata": {},
   "outputs": [],
   "source": [
    "sensitive_atribute = test_data[sensitive_feature]\n",
    "metrics = compute_metric(y_pred = predictions,\n",
    "                         data = test_data,\n",
    "                         sensitive_feature = sensitive_atribute)\n",
    "results3 = pd.DataFrame(metrics,\n",
    "                       index = [\"Reg Eoods model\"]).T"
   ]
  },
  {
   "cell_type": "code",
   "execution_count": 132,
   "metadata": {},
   "outputs": [
    {
     "data": {
      "text/html": [
       "<div>\n",
       "<style scoped>\n",
       "    .dataframe tbody tr th:only-of-type {\n",
       "        vertical-align: middle;\n",
       "    }\n",
       "\n",
       "    .dataframe tbody tr th {\n",
       "        vertical-align: top;\n",
       "    }\n",
       "\n",
       "    .dataframe thead th {\n",
       "        text-align: right;\n",
       "    }\n",
       "</style>\n",
       "<table border=\"1\" class=\"dataframe\">\n",
       "  <thead>\n",
       "    <tr style=\"text-align: right;\">\n",
       "      <th></th>\n",
       "      <th>simple model</th>\n",
       "      <th>Reg DP model</th>\n",
       "      <th>Reg EO model</th>\n",
       "      <th>Reg Eoods model</th>\n",
       "    </tr>\n",
       "  </thead>\n",
       "  <tbody>\n",
       "    <tr>\n",
       "      <th>accuracy</th>\n",
       "      <td>0.847578</td>\n",
       "      <td>0.788666</td>\n",
       "      <td>0.751433</td>\n",
       "      <td>0.789918</td>\n",
       "    </tr>\n",
       "    <tr>\n",
       "      <th>demographic_metric</th>\n",
       "      <td>0.167036</td>\n",
       "      <td>0.044799</td>\n",
       "      <td>0.287562</td>\n",
       "      <td>0.172120</td>\n",
       "    </tr>\n",
       "    <tr>\n",
       "      <th>equalized_opportunities</th>\n",
       "      <td>0.106897</td>\n",
       "      <td>0.376331</td>\n",
       "      <td>0.076200</td>\n",
       "      <td>0.039043</td>\n",
       "    </tr>\n",
       "    <tr>\n",
       "      <th>equalized_odds</th>\n",
       "      <td>0.179301</td>\n",
       "      <td>0.393115</td>\n",
       "      <td>0.275474</td>\n",
       "      <td>0.121905</td>\n",
       "    </tr>\n",
       "  </tbody>\n",
       "</table>\n",
       "</div>"
      ],
      "text/plain": [
       "                         simple model  Reg DP model  Reg EO model  \\\n",
       "accuracy                     0.847578      0.788666      0.751433   \n",
       "demographic_metric           0.167036      0.044799      0.287562   \n",
       "equalized_opportunities      0.106897      0.376331      0.076200   \n",
       "equalized_odds               0.179301      0.393115      0.275474   \n",
       "\n",
       "                         Reg Eoods model  \n",
       "accuracy                        0.789918  \n",
       "demographic_metric              0.172120  \n",
       "equalized_opportunities         0.039043  \n",
       "equalized_odds                  0.121905  "
      ]
     },
     "execution_count": 132,
     "metadata": {},
     "output_type": "execute_result"
    }
   ],
   "source": [
    "all_results = pd.concat([all_results, results3],axis=1)\n",
    "all_results"
   ]
  },
  {
   "cell_type": "code",
   "execution_count": 133,
   "metadata": {},
   "outputs": [
    {
     "data": {
      "text/plain": [
       "<AxesSubplot: >"
      ]
     },
     "execution_count": 133,
     "metadata": {},
     "output_type": "execute_result"
    },
    {
     "data": {
      "image/png": "[encoded data removed]",
      "text/plain": [
       "<Figure size 640x480 with 1 Axes>"
      ]
     },
     "metadata": {},
     "output_type": "display_data"
    }
   ],
   "source": [
    "all_results.plot(kind=\"bar\")"
   ]
  },
  {
   "cell_type": "markdown",
   "metadata": {},
   "source": [
    "# Things to Remember\n",
    "\n",
    "1. **ML models can be biased due to various sources,** with data-dependent biases being the most common.\n",
    "2. **Selecting the appropriate fairness criterion** is essential and should align with the specific requirements of our problem.\n",
    "3. **Fairness metrics can be calculated** using different rates for different groups.\n",
    "4. **Removing sensitive features does not guarantee fairness** because proxy variables can still introduce bias. In many cases, removing these features does not significantly influence the algorithm.\n",
    "5. **Biases can be addressed through pre-processing, in-processing, or post-processing methods.**\n",
    "6. **Different methods involve trade-offs** between fairness and model performance, so choosing the right approach depends on the acceptable balance between these two factors.\n",
    "\n",
    "For an overview of different methods and fairness critiriaa we refer you to the following survey https://arxiv.org/pdf/2001.09784.pdf.\n",
    "\n",
    "Fairness python libraries:\n",
    "https://aif360.readthedocs.io/en/stable/modules/algorithms.html\n",
    "https://fairlearn.org/"
   ]
  }
 ],
 "metadata": {
  "kernelspec": {
   "display_name": "Python 3 (ipykernel)",
   "language": "python",
   "name": "python3"
  },
  "language_info": {
   "codemirror_mode": {
    "name": "ipython",
    "version": 3
   },
   "file_extension": ".py",
   "mimetype": "text/x-python",
   "name": "python",
   "nbconvert_exporter": "python",
   "pygments_lexer": "ipython3",
   "version": "3.9.18"
  }
 },
 "nbformat": 4,
 "nbformat_minor": 1
}

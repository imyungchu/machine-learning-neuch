{
 "cells": [
  {
   "cell_type": "code",
   "execution_count": 5,
   "id": "0ad5851b",
   "metadata": {},
   "outputs": [],
   "source": [
    "import numpy as np\n"
   ]
  },
  {
   "cell_type": "code",
   "execution_count": 12,
   "id": "ccc8f21f",
   "metadata": {},
   "outputs": [],
   "source": [
    "class ApplicationSimulator:\n",
    "    def __init__(self, n_schools: int):\n",
    "        self.n_schools = n_schools\n",
    "        print(\"Initialised with \", n_schools, \"schools\")\n",
    "    def generate_applications(self, n_students: int):\n",
    "        pass\n",
    "    def generate_decisions(self, n_students: int)\n",
    "        pass\n",
    "    def generate_data(self, n_students: int):\n",
    "        pass\n",
    "    \n",
    "\n",
    "        "
   ]
  },
  {
   "cell_type": "code",
   "execution_count": 20,
   "id": "a0cd8ae4",
   "metadata": {},
   "outputs": [],
   "source": [
    "# In this model, everything is independent\n",
    "class IndependentApplication(ApplicationSimulator):\n",
    "    def __init__(self, n_schools: int):\n",
    "        super().__init__(n_schools)\n",
    "        \n",
    "    def generate_data(self, n_students: int):\n",
    "        print(\"OK\")"
   ]
  },
  {
   "cell_type": "code",
   "execution_count": 21,
   "id": "a2936326",
   "metadata": {},
   "outputs": [
    {
     "name": "stdout",
     "output_type": "stream",
     "text": [
      "Initialised with  10 schools\n",
      "Woow\n"
     ]
    }
   ],
   "source": [
    "test = IndependentApplication(10)"
   ]
  },
  {
   "cell_type": "code",
   "execution_count": null,
   "id": "2fd2bb29",
   "metadata": {},
   "outputs": [],
   "source": []
  }
 ],
 "metadata": {
  "kernelspec": {
   "display_name": "Python 3 (ipykernel)",
   "language": "python",
   "name": "python3"
  },
  "language_info": {
   "codemirror_mode": {
    "name": "ipython",
    "version": 3
   },
   "file_extension": ".py",
   "mimetype": "text/x-python",
   "name": "python",
   "nbconvert_exporter": "python",
   "pygments_lexer": "ipython3",
   "version": "3.11.2"
  }
 },
 "nbformat": 4,
 "nbformat_minor": 5
}

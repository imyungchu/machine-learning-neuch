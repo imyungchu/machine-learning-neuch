{
 "cells": [
  {
   "cell_type": "code",
   "execution_count": 5,
   "id": "3fed3b2e",
   "metadata": {},
   "outputs": [],
   "source": [
    "import numpy as np\n"
   ]
  },
  {
   "cell_type": "code",
   "execution_count": 12,
   "id": "1eef5cb1",
   "metadata": {},
   "outputs": [],
   "source": [
    "class ApplicationSimulator:\n",
    "    def __init__(self, n_schools: int):\n",
    "        self.n_schools = n_schools\n",
    "        print(\"Initialised with \", n_schools, \"schools\")\n",
    "    def generate_applications(self, n_students: int):\n",
    "        pass\n",
    "    def generate_decisions(self)\n",
    "        pass\n",
    "    def generate_data(self, n_students: int):\n",
    "        self.generate_applications(n_students)\n",
    "        self.generate_decisions()\n",
    "        return self.applications, self.decisions\n",
    "\n",
    "    \n",
    "\n",
    "        "
   ]
  },
  {
   "cell_type": "code",
   "execution_count": 33,
   "id": "61910c26",
   "metadata": {},
   "outputs": [],
   "source": [
    "# In this model, everything is independent\n",
    "# The students apply to schools independently \n",
    "class CompletelyIndependentApplication(ApplicationSimulator):\n",
    "    def __init__(self, n_schools: int):\n",
    "        super().__init__(n_schools)\n",
    "        self.application_probability = np.random.dirichlet(np.ones(self.n_schools))\n",
    "        print(\"Student apply with these probabilities:\", self.application_probability)\n",
    "        self.acceptance_probability = np.random.uniform(size = self.n_schools)\n",
    "        print(\"Each school accepts students these probabilities:\", self.acceptance_probability)\n",
    "    def generate_applications(self, n_students: int):\n",
    "        self.application = np.zeros(n_students)\n",
    "        for s in range(self.n_students):\n",
    "            self.application[s] = np.random.choice(self.n_schools, p=self.application_probability)\n",
    "    def generate_decisions(self):\n",
    "        self.decision = np.zeros(n_students)\n",
    "        for s in range(self.n_students):\n",
    "            self.decisions[]"
   ]
  },
  {
   "cell_type": "code",
   "execution_count": 34,
   "id": "37f51e55",
   "metadata": {},
   "outputs": [
    {
     "name": "stdout",
     "output_type": "stream",
     "text": [
      "Initialised with  3 schools\n",
      "Student apply with these probabilities: [0.16462754 0.63673185 0.19864061]\n",
      "Each school accepts students these probabilities: [0.03492688 0.22384727 0.3774712 ]\n"
     ]
    }
   ],
   "source": [
    "test = CompletelyIndependentApplication(3)\n"
   ]
  },
  {
   "cell_type": "code",
   "execution_count": null,
   "id": "72e302da",
   "metadata": {},
   "outputs": [],
   "source": []
  }
 ],
 "metadata": {
  "kernelspec": {
   "display_name": "Python 3 (ipykernel)",
   "language": "python",
   "name": "python3"
  },
  "language_info": {
   "codemirror_mode": {
    "name": "ipython",
    "version": 3
   },
   "file_extension": ".py",
   "mimetype": "text/x-python",
   "name": "python",
   "nbconvert_exporter": "python",
   "pygments_lexer": "ipython3",
   "version": "3.11.2"
  }
 },
 "nbformat": 4,
 "nbformat_minor": 5
}

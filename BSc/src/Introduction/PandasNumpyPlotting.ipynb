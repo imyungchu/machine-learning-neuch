{
 "cells": [
  {
   "cell_type": "code",
   "execution_count": null,
   "id": "b73ab8d1-60a5-4115-8a02-947b62d291a7",
   "metadata": {},
   "outputs": [],
   "source": [
    "# This will be filled in in-class"
   ]
  },
  {
   "cell_type": "code",
   "execution_count": 1,
   "id": "2f6d1e37",
   "metadata": {},
   "outputs": [],
   "source": [
    "import pandas as pd\n"
   ]
  },
  {
   "cell_type": "code",
   "execution_count": 3,
   "id": "d45f42d7",
   "metadata": {},
   "outputs": [],
   "source": [
    "# read data"
   ]
  },
  {
   "cell_type": "code",
   "execution_count": 4,
   "id": "7c347f90",
   "metadata": {},
   "outputs": [],
   "source": [
    "# column access"
   ]
  },
  {
   "cell_type": "code",
   "execution_count": 5,
   "id": "b1dadc02",
   "metadata": {},
   "outputs": [],
   "source": [
    "# pandas plotting\n"
   ]
  },
  {
   "cell_type": "code",
   "execution_count": 6,
   "id": "e2cd1c25",
   "metadata": {},
   "outputs": [],
   "source": [
    "# matplotlib plotting"
   ]
  },
  {
   "cell_type": "code",
   "execution_count": 7,
   "id": "721a999d",
   "metadata": {},
   "outputs": [],
   "source": [
    "# Series"
   ]
  },
  {
   "cell_type": "code",
   "execution_count": 8,
   "id": "13111d87",
   "metadata": {},
   "outputs": [],
   "source": [
    "# Arrays\n",
    "# get a column\n",
    "# get a row\n",
    "# get an element\n",
    "# get dimensions"
   ]
  },
  {
   "cell_type": "code",
   "execution_count": 9,
   "id": "70b08abb",
   "metadata": {},
   "outputs": [],
   "source": [
    "# Dataframes\n",
    "# get a column with a name\n",
    "# get a row with loc\n",
    "# get an element with at\n",
    "# get an element with loc and at\n",
    "# ger an element with iat"
   ]
  },
  {
   "cell_type": "code",
   "execution_count": null,
   "id": "e51906a7",
   "metadata": {},
   "outputs": [],
   "source": []
  }
 ],
 "metadata": {
  "kernelspec": {
   "display_name": "Python 3 (ipykernel)",
   "language": "python",
   "name": "python3"
  },
  "language_info": {
   "codemirror_mode": {
    "name": "ipython",
    "version": 3
   },
   "file_extension": ".py",
   "mimetype": "text/x-python",
   "name": "python",
   "nbconvert_exporter": "python",
   "pygments_lexer": "ipython3",
   "version": "3.12.3"
  }
 },
 "nbformat": 4,
 "nbformat_minor": 5
}

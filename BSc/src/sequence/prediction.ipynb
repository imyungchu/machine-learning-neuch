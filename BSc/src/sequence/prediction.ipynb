{
 "cells": [
  {
   "cell_type": "code",
   "execution_count": 1,
   "id": "c9d4659b",
   "metadata": {},
   "outputs": [],
   "source": [
    "import numpy as np\n",
    "\n",
    "x = 0"
   ]
  },
  {
   "cell_type": "code",
   "execution_count": 32,
   "id": "2731cb49-1731-4800-be2a-fb77920b2e3a",
   "metadata": {},
   "outputs": [
    {
     "data": {
      "text/plain": [
       "array([[0.29278029, 0.96189748],\n",
       "       [0.30999906, 0.25525902],\n",
       "       [0.4633251 , 0.03482305],\n",
       "       [0.45507353, 0.66828898]])"
      ]
     },
     "execution_count": 32,
     "metadata": {},
     "output_type": "execute_result"
    }
   ],
   "source": [
    "state = np.random.uniform(size=[4,2])\n",
    "x = np.array([-1, 1])\n",
    "state"
   ]
  },
  {
   "cell_type": "code",
   "execution_count": 36,
   "id": "77351b13-e663-47eb-a42a-52ba8c787992",
   "metadata": {},
   "outputs": [
    {
     "data": {
      "text/plain": [
       "array([[-1.,  1.],\n",
       "       [-1.,  1.],\n",
       "       [-1.,  1.],\n",
       "       [-1.,  1.]])"
      ]
     },
     "execution_count": 36,
     "metadata": {},
     "output_type": "execute_result"
    }
   ],
   "source": [
    "state[:-1] = state[1:]\n",
    "state[-1] = x\n",
    "state"
   ]
  },
  {
   "cell_type": "code",
   "execution_count": 2,
   "id": "5b493255-341d-4cad-9b2c-70e5290d9d35",
   "metadata": {},
   "outputs": [],
   "source": [
    "def square_loss(x, y):\n",
    "    return (x - y)**2\n",
    "    "
   ]
  },
  {
   "cell_type": "code",
   "execution_count": 3,
   "id": "66d347df",
   "metadata": {},
   "outputs": [],
   "source": [
    "class SimpleSequencePredictor:\n",
    "    def __init__(self):\n",
    "        self.last = 0\n",
    "    # Does not do anything here\n",
    "    # You should implement something where data is a sequence of Xs\n",
    "    # There are no explicit targets\n",
    "    def fit(self, data):\n",
    "        pass\n",
    "    def predict(self):\n",
    "        return self.last\n",
    "    # Here you should save the data somehow and push it in the window\n",
    "    # You can use the new data to adapt the model, but that is too complicated.\n",
    "    def observe(self, x):\n",
    "        self.last = x\n"
   ]
  },
  {
   "cell_type": "code",
   "execution_count": 12,
   "id": "b13ca87b",
   "metadata": {},
   "outputs": [],
   "source": [
    "def evaluate_predictor(model, train, test, loss):\n",
    "    model.fit(train)\n",
    "    error = 0\n",
    "    for t in range(len(test)):\n",
    "        y = model.predict()\n",
    "        error += loss(y, test[t])\n",
    "        model.observe(test[t])\n",
    "    return np.mean(error)"
   ]
  },
  {
   "cell_type": "code",
   "execution_count": 13,
   "id": "2f9e261a-76cf-4081-b89e-82686981a432",
   "metadata": {},
   "outputs": [],
   "source": [
    "# Test with Gaussian time series\n",
    "from time_series_generators import *\n"
   ]
  },
  {
   "cell_type": "code",
   "execution_count": 16,
   "id": "65ca0283-4bda-45f3-9bc2-36fb6219f391",
   "metadata": {},
   "outputs": [],
   "source": [
    "gts = GaussianTimeSeries(0.1)\n",
    "T = 100\n",
    "train = np.zeros(T)\n",
    "for t in range(T):\n",
    "    train[t] = gts.generate()\n",
    "test = np.zeros(T)\n",
    "for t in range(T):\n",
    "    test[t] = gts.generate()\n",
    "\n"
   ]
  },
  {
   "cell_type": "code",
   "execution_count": 17,
   "id": "40b7e07f-3b38-4a42-a9c0-4e458534c36d",
   "metadata": {},
   "outputs": [
    {
     "name": "stdout",
     "output_type": "stream",
     "text": [
      "Error:  33.882937878999286\n"
     ]
    }
   ],
   "source": [
    "predictor = SimpleSequencePredictor()\n",
    "print(\"Error: \", evaluate_predictor(predictor, train, test, square_loss))"
   ]
  },
  {
   "cell_type": "code",
   "execution_count": null,
   "id": "e06e6417-b4fe-49cf-9d70-009c8a40bd49",
   "metadata": {},
   "outputs": [],
   "source": [
    "class NeuralSequencePredictor:\n",
    "    def __init__(self, n_features, order):\n",
    "        self.n_features = n_features\n",
    "        self.order = order\n",
    "        self.window = np.zeros([n_features, order])\n",
    "        self.network = None # Here you should initialise a neural network from sklearn\n",
    "    # Fit the training data\n",
    "    # Since we want to use the sklearn procedure, then we need to re-arrange the training data \n",
    "    # somehow in order for us to fit the model properly?\n",
    "    def fit(self, data):\n",
    "        pass\n",
    "    def predict(self):\n",
    "        pass\n",
    "    # Here you should save the data somehow\n",
    "    # You can use the new data to adapt the model,\n",
    "    # but at the moment, just push the data in the window\n",
    "    def observe(self, x):\n",
    "        self.last = x\n"
   ]
  },
  {
   "cell_type": "code",
   "execution_count": null,
   "id": "2a58af8d-7d6a-48e9-8432-72e12e9dde68",
   "metadata": {},
   "outputs": [],
   "source": []
  }
 ],
 "metadata": {
  "kernelspec": {
   "display_name": "Python 3 (ipykernel)",
   "language": "python",
   "name": "python3"
  },
  "language_info": {
   "codemirror_mode": {
    "name": "ipython",
    "version": 3
   },
   "file_extension": ".py",
   "mimetype": "text/x-python",
   "name": "python",
   "nbconvert_exporter": "python",
   "pygments_lexer": "ipython3",
   "version": "3.8.10"
  }
 },
 "nbformat": 4,
 "nbformat_minor": 5
}

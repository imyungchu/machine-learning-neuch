{
 "cells": [
  {
   "cell_type": "code",
   "execution_count": 1,
   "id": "c9d4659b",
   "metadata": {},
   "outputs": [],
   "source": [
    "import numpy as np\n"
   ]
  },
  {
   "cell_type": "code",
   "execution_count": 2,
   "id": "66d347df",
   "metadata": {},
   "outputs": [],
   "source": [
    "class SimpleSequencePredictor:\n",
    "    def __init__(self):\n",
    "        self.last = 0\n",
    "    def predict(self):\n",
    "        return self.last\n",
    "    def observe(self, x):\n",
    "        self.last = x\n"
   ]
  },
  {
   "cell_type": "code",
   "execution_count": null,
   "id": "b13ca87b",
   "metadata": {},
   "outputs": [],
   "source": []
  }
 ],
 "metadata": {
  "kernelspec": {
   "display_name": "Python 3 (ipykernel)",
   "language": "python",
   "name": "python3"
  },
  "language_info": {
   "codemirror_mode": {
    "name": "ipython",
    "version": 3
   },
   "file_extension": ".py",
   "mimetype": "text/x-python",
   "name": "python",
   "nbconvert_exporter": "python",
   "pygments_lexer": "ipython3",
   "version": "3.11.2"
  }
 },
 "nbformat": 4,
 "nbformat_minor": 5
}

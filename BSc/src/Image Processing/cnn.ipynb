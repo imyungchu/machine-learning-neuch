{
 "cells": [
  {
   "cell_type": "markdown",
   "metadata": {},
   "source": [
    "# Lab: Understanding and Implementing Convolutional Neural Networks (CNNs)"
   ]
  },
  {
   "cell_type": "markdown",
   "metadata": {},
   "source": [
    "### Definition and Basic Architecture\n",
    "\n",
    "Convolutional Neural Networks (ConvNets) are a powerful type of deep learning model specifically designed for processing and analyzing visual data, such as images and videos. They have revolutionized the field of Computer Vision, enabling remarkable advancements in tasks like Image Recognition, Object Detection, and Image Segmentation.\n",
    "\n",
    "The architecture of CNN comprises three fundamental layer types:\n",
    "\n",
    "- Convolutional Layers\n",
    "\n",
    "- Pooling Layers\n",
    "\n",
    "- Fully-Connected Layers\n",
    "\n",
    "<figure>\n",
    "  <img style=\"float: left;\" src=\"../../fig/cnn.png\" width=\"500\"/>\n",
    "</figure>"
   ]
  },
  {
   "cell_type": "markdown",
   "metadata": {},
   "source": [
    "#### Convolutional layer\n",
    "\n",
    "The primary aim of convolutional layers in Convolutional Neural Networks (CNNs) is to extract features from input data, particularly images. These layers apply filters (or kernels) to the input, which allows the network to learn and identify patterns such as edges, textures, and more complex structures within the data, and the matrix formed by sliding the filter over the image is called the Convolved Feature, Activation Map, or Feature Map. \n",
    "\n",
    "It is primarily governed by the following main hyperparameters:\n",
    "\n",
    "- Kernel size: It determines the size of the sliding window. It is generally recommended to use smaller window sizes, preferably odd values such as 1, 3, 5.\n",
    "\n",
    "- Stride: The stride parameter determines the number of pixels the kernel window will move during each step of convolution. Typically, it is set to 1 to ensure that no locations are missed in an image. \n",
    "\n",
    "- Padding: Padding refers to the technique of adding zeros to the border of an image. By applying padding, the kernel can fully filter every position of an input image, ensuring that even the edges are properly processed. So its value is set to 0.\n",
    "\n",
    "- Number of filters /Depth:  determines the number of distinct characteristics or elements that the convolutional layer will focus on detecting.\n",
    "\n",
    "\n",
    "Let’s take an example to better understand this concept. Imagine we have an input image with dimensions of 6x6 pixels. For the convolutional operation, we use a kernel with dimensions of 3x3 pixels, a stride of 1, and no padding (padding of 0).\n",
    "\n",
    "To calculate the output size of the convoluted image, we can apply the following formula: \n",
    "\n",
    "$$\n",
    "\\text{output\\_size} = 1 + \\frac{\\text{input\\_size} - \\text{kernel\\_size} + (2 \\times \\text{padding})}{\\text{stride}}\n",
    "$$\n",
    "Plugging in the values, we get:  $\\text{output\\_size} = 1 + \\frac{6 - 3 + (2 \\times 0)}{1} = 4$\n",
    "\n",
    "**How do you think we can convolve an image when the input has more than one channel (an RGB image)?**\n",
    "\n",
    "you can learn more here: https://machinelearningmastery.com/convolutional-layers-for-deep-learning-neural-networks/\n"
   ]
  },
  {
   "cell_type": "code",
   "execution_count": null,
   "metadata": {},
   "outputs": [],
   "source": []
  },
  {
   "cell_type": "markdown",
   "metadata": {},
   "source": [
    "#### The Pooling Layer\n",
    "\n",
    "Pooling layers, also referred to as downsampling, serve to reduce the dimensionality of the input, thereby decreasing the number of parameters. Similar to convolutional layers, pooling operations involve traversing a filter across the input. Two primary types of pooling are commonly employed:\n",
    "\n",
    "- Max Pooling: It selects the pixel with the maximum value to send to the output array.\n",
    "\n",
    "- Average pooling: It calculates the average value within the receptive field to send to the output array."
   ]
  },
  {
   "cell_type": "markdown",
   "metadata": {},
   "source": []
  },
  {
   "cell_type": "markdown",
   "metadata": {},
   "source": [
    "#### Fully-Connected Layer\n",
    "\n",
    "The Fully Connected Layer or dense layer aims to provide global connectivity between all neurons in the layer. Unlike convolutional and pooling layers, which operate on local spatial regions, the fully connected layer connects every neuron to every neuron in the previous and subsequent layers."
   ]
  },
  {
   "cell_type": "markdown",
   "metadata": {},
   "source": [
    "This combination of convolution, pooling, and fully connected layers forms the core structure of a CNN and enables it to learn and recognize complex patterns in images or other data.\n",
    "\n",
    "<figure>\n",
    "  <img style=\"float: left;\" src=\"../../fig/fully.png\" width=\"700\"/>\n",
    "</figure>\n",
    "\n"
   ]
  },
  {
   "cell_type": "code",
   "execution_count": null,
   "metadata": {},
   "outputs": [],
   "source": []
  },
  {
   "cell_type": "markdown",
   "metadata": {},
   "source": [
    "#### Implementation\n",
    "\n",
    "We will build a CNN to classify images from the MNIST dataset (handwritten digits, 0–9)."
   ]
  },
  {
   "cell_type": "code",
   "execution_count": 1,
   "metadata": {},
   "outputs": [],
   "source": [
    "import tensorflow as tf\n",
    "from tensorflow.keras import layers, models\n",
    "import matplotlib.pyplot as plt\n"
   ]
  },
  {
   "cell_type": "code",
   "execution_count": 2,
   "metadata": {},
   "outputs": [
    {
     "name": "stdout",
     "output_type": "stream",
     "text": [
      "Downloading data from https://storage.googleapis.com/tensorflow/tf-keras-datasets/mnist.npz\n",
      "11490434/11490434 [==============================] - 8s 1us/step\n"
     ]
    }
   ],
   "source": [
    "# Load MNIST dataset\n",
    "(x_train, y_train), (x_test, y_test) = tf.keras.datasets.mnist.load_data()\n",
    "\n",
    "# Normalize the data (scale pixel values between 0 and 1)\n",
    "x_train = x_train / 255.0\n",
    "x_test = x_test / 255.0\n",
    "\n",
    "# Add a channel dimension (required for CNNs)\n",
    "# CNNs expect the input image data to be in a specific format that includes \n",
    "# a channel dimension, even for grayscale images\n",
    "x_train = x_train[..., tf.newaxis]\n",
    "x_test = x_test[..., tf.newaxis]\n",
    "\n",
    "# One-hot encode the labels\n",
    "y_train = tf.keras.utils.to_categorical(y_train, 10)\n",
    "y_test = tf.keras.utils.to_categorical(y_test, 10)\n",
    "\n"
   ]
  },
  {
   "cell_type": "code",
   "execution_count": 3,
   "metadata": {},
   "outputs": [
    {
     "data": {
      "text/plain": [
       "(60000, 28, 28, 1)"
      ]
     },
     "execution_count": 3,
     "metadata": {},
     "output_type": "execute_result"
    }
   ],
   "source": [
    "x_train.shape"
   ]
  },
  {
   "cell_type": "code",
   "execution_count": 4,
   "metadata": {},
   "outputs": [
    {
     "data": {
      "text/plain": [
       "(10000, 28, 28, 1)"
      ]
     },
     "execution_count": 4,
     "metadata": {},
     "output_type": "execute_result"
    }
   ],
   "source": [
    "x_test.shape"
   ]
  },
  {
   "cell_type": "code",
   "execution_count": 6,
   "metadata": {},
   "outputs": [
    {
     "data": {
      "image/png": "[encoded data removed]",
      "text/plain": [
       "<Figure size 600x400 with 9 Axes>"
      ]
     },
     "metadata": {},
     "output_type": "display_data"
    }
   ],
   "source": [
    "# Display a few training images\n",
    "plt.figure(figsize=(6, 4))\n",
    "for i in range(9):\n",
    "    plt.subplot(3, 3, i+1)\n",
    "    plt.imshow(x_train[i].squeeze(), cmap='gray')\n",
    "    plt.title(f'Label: {y_train[i].argmax()}')\n",
    "    plt.axis('off')\n",
    "plt.show()\n"
   ]
  },
  {
   "cell_type": "code",
   "execution_count": 7,
   "metadata": {},
   "outputs": [
    {
     "name": "stdout",
     "output_type": "stream",
     "text": [
      "Metal device set to: Apple M2\n",
      "\n",
      "systemMemory: 8.00 GB\n",
      "maxCacheSize: 2.67 GB\n",
      "\n"
     ]
    }
   ],
   "source": [
    "# Define the CNN architecture\n",
    "model = models.Sequential([\n",
    "    # Convolutional Layer\n",
    "    layers.Conv2D(32, (3, 3), activation='relu', input_shape=(28, 28, 1)),\n",
    "    # Pooling Layer\n",
    "    layers.MaxPooling2D((2, 2)),\n",
    "    \n",
    "    # Add another Conv layer\n",
    "    layers.Conv2D(64, (3, 3), activation='relu'),\n",
    "    # Pooling Layer\n",
    "    layers.MaxPooling2D((2, 2)),\n",
    "    \n",
    "    # Flatten the output\n",
    "    layers.Flatten(),\n",
    "    \n",
    "    # Fully Connected Layer\n",
    "    layers.Dense(128, activation='relu'),\n",
    "    \n",
    "    # Output Layer\n",
    "    layers.Dense(10, activation='softmax')  # 10 classes (digits 0-9)\n",
    "])\n"
   ]
  },
  {
   "cell_type": "code",
   "execution_count": null,
   "metadata": {},
   "outputs": [],
   "source": []
  }
 ],
 "metadata": {
  "kernelspec": {
   "display_name": "base",
   "language": "python",
   "name": "python3"
  },
  "language_info": {
   "codemirror_mode": {
    "name": "ipython",
    "version": 3
   },
   "file_extension": ".py",
   "mimetype": "text/x-python",
   "name": "python",
   "nbconvert_exporter": "python",
   "pygments_lexer": "ipython3",
   "version": "3.10.12"
  }
 },
 "nbformat": 4,
 "nbformat_minor": 2
}
